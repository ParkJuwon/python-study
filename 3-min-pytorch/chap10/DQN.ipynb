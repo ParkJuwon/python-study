{
 "cells": [
  {
   "cell_type": "code",
   "execution_count": 2,
   "metadata": {},
   "outputs": [],
   "source": [
    "import gym\n",
    "import random\n",
    "import math\n",
    "import torch\n",
    "import torch.nn as nn\n",
    "import torch.optim as optim\n",
    "import torch.nn.functional as F\n",
    "from collections import deque\n",
    "import matplotlib.pyplot as plt"
   ]
  },
  {
   "cell_type": "code",
   "execution_count": 3,
   "metadata": {},
   "outputs": [],
   "source": [
    "# 하이퍼 파라미터\n",
    "EPISODES = 50 # 에피소드 반복 횟수\n",
    "EPS_START = 0.9 # 학습 시작 시 에이전트가 무작위로 행동할 확률\n",
    "EPS_END = 0.05 # 학습 막바지에 에이전트가 무작위로 행동할 확률\n",
    "EPS_DECAY = 200 # 학습 진행 시 에이전트가 무작위로 행동할 확률을 감소시키는 값\n",
    "GAMMA = 0.8 # 할인 계수\n",
    "LR = 0.001 # 학습률\n",
    "BATCH_SIZE = 64 # 배치 크기\n"
   ]
  },
  {
   "cell_type": "code",
   "execution_count": 4,
   "metadata": {},
   "outputs": [],
   "source": [
    "class DQNAgent:\n",
    "    def __init__(self):\n",
    "        self.model = nn.Sequential(\n",
    "        \n",
    "            nn.Linear(4, 256),\n",
    "            nn.ReLU(),\n",
    "            nn.Linear(256, 2)\n",
    "        )\n",
    "        \n",
    "        self.optimizer = optim.Adam(self.model.parameters(), LR)\n",
    "        self.steps_done = 0\n",
    "        self.memory = deque(maxlen=10000)\n",
    "    \n",
    "    def memorize(self, state, action, reward, next_state):\n",
    "        self.memory.append((state, \n",
    "                            action,\n",
    "                            torch.FloatTensor([reward]),\n",
    "                            torch.FloatTensor([next_state])\n",
    "                           ))\n",
    "    \n",
    "    def act(self, state):\n",
    "        eps_threshold = EPS_END + (EPS_START - EPS_END) * math.exp(-1. * self.steps_done / EPS_DECAY)\n",
    "        self.steps_done += 1\n",
    "        if random.random() > eps_threshold:\n",
    "            return self.model(state).data.max(1)[1].view(1, 1)\n",
    "        else:\n",
    "            return torch.LongTensor([[random.randrange(2)]])\n",
    "        \n",
    "    def learn(self):\n",
    "        if len(self.memory) < BATCH_SIZE:\n",
    "            return\n",
    "        batch = random.sample(self.memory, BATCH_SIZE)\n",
    "        states, actions, rewards, next_states = zip(*batch)\n",
    "        \n",
    "        states = torch.cat(states)\n",
    "        actions = torch.cat(actions)\n",
    "        rewards = torch.cat(rewards)\n",
    "        next_states = torch.cat(next_states)\n",
    "        \n",
    "        current_q = self.model(states).gather(1, actions)\n",
    "        max_next_q = self.model(next_states).detach().max(1)[0]\n",
    "        expected_q = rewards + (GAMMA * max_next_q)\n",
    "        \n",
    "        loss = F.mse_loss(current_q.squeeze(), expected_q)\n",
    "        self.optimizer.zero_grad()\n",
    "        loss.backward()\n",
    "        self.optimizer.step()\n",
    "        "
   ]
  },
  {
   "cell_type": "code",
   "execution_count": 5,
   "metadata": {},
   "outputs": [
    {
     "name": "stdout",
     "output_type": "stream",
     "text": [
      "에피소드: 1, 점수: 10\n",
      "에피소드: 2, 점수: 20\n",
      "에피소드: 3, 점수: 30\n",
      "에피소드: 4, 점수: 13\n",
      "에피소드: 5, 점수: 19\n",
      "에피소드: 6, 점수: 11\n",
      "에피소드: 7, 점수: 12\n",
      "에피소드: 8, 점수: 15\n",
      "에피소드: 9, 점수: 15\n",
      "에피소드: 10, 점수: 12\n",
      "에피소드: 11, 점수: 10\n",
      "에피소드: 12, 점수: 11\n",
      "에피소드: 13, 점수: 13\n",
      "에피소드: 14, 점수: 12\n",
      "에피소드: 15, 점수: 11\n",
      "에피소드: 16, 점수: 14\n",
      "에피소드: 17, 점수: 33\n",
      "에피소드: 18, 점수: 9\n",
      "에피소드: 19, 점수: 12\n",
      "에피소드: 20, 점수: 11\n",
      "에피소드: 21, 점수: 10\n",
      "에피소드: 22, 점수: 35\n",
      "에피소드: 23, 점수: 22\n",
      "에피소드: 24, 점수: 32\n",
      "에피소드: 25, 점수: 37\n",
      "에피소드: 26, 점수: 104\n",
      "에피소드: 27, 점수: 118\n",
      "에피소드: 28, 점수: 102\n",
      "에피소드: 29, 점수: 105\n",
      "에피소드: 30, 점수: 99\n",
      "에피소드: 31, 점수: 170\n",
      "에피소드: 32, 점수: 138\n",
      "에피소드: 33, 점수: 200\n",
      "에피소드: 34, 점수: 87\n",
      "에피소드: 35, 점수: 119\n",
      "에피소드: 36, 점수: 187\n",
      "에피소드: 37, 점수: 200\n",
      "에피소드: 38, 점수: 132\n",
      "에피소드: 39, 점수: 175\n",
      "에피소드: 40, 점수: 179\n",
      "에피소드: 41, 점수: 157\n",
      "에피소드: 42, 점수: 150\n",
      "에피소드: 43, 점수: 200\n",
      "에피소드: 44, 점수: 143\n",
      "에피소드: 45, 점수: 173\n",
      "에피소드: 46, 점수: 149\n",
      "에피소드: 47, 점수: 180\n",
      "에피소드: 48, 점수: 199\n",
      "에피소드: 49, 점수: 147\n",
      "에피소드: 50, 점수: 157\n"
     ]
    }
   ],
   "source": [
    "env = gym.make('CartPole-v0')\n",
    "agent = DQNAgent()\n",
    "score_history = []\n",
    "\n",
    "for e in range(1, EPISODES + 1):\n",
    "    state = env.reset()\n",
    "    steps = 0\n",
    "    \n",
    "    while True:\n",
    "        env.render()\n",
    "        state = torch.FloatTensor([state])\n",
    "        action = agent.act(state)\n",
    "        next_state, reward, done, _ = env.step(action.item())\n",
    "        \n",
    "        if done:\n",
    "            reward = -1\n",
    "        \n",
    "        agent.memorize(state, action, reward, next_state)\n",
    "        agent.learn()\n",
    "        \n",
    "        state = next_state\n",
    "        steps += 1\n",
    "        \n",
    "        if done:\n",
    "            print('에피소드: {0}, 점수: {1}'.format(e, steps))\n",
    "            score_history.append(steps)\n",
    "            break\n",
    "            "
   ]
  },
  {
   "cell_type": "code",
   "execution_count": 6,
   "metadata": {},
   "outputs": [
    {
     "data": {
      "image/png": "[encoded data removed]",
      "text/plain": [
       "<Figure size 432x288 with 1 Axes>"
      ]
     },
     "metadata": {
      "needs_background": "light"
     },
     "output_type": "display_data"
    }
   ],
   "source": [
    "plt.plot(score_history)\n",
    "plt.ylabel('score')\n",
    "plt.show()"
   ]
  },
  {
   "cell_type": "code",
   "execution_count": null,
   "metadata": {},
   "outputs": [],
   "source": []
  }
 ],
 "metadata": {
  "kernelspec": {
   "display_name": "Python 3",
   "language": "python",
   "name": "python3"
  },
  "language_info": {
   "codemirror_mode": {
    "name": "ipython",
    "version": 3
   },
   "file_extension": ".py",
   "mimetype": "text/x-python",
   "name": "python",
   "nbconvert_exporter": "python",
   "pygments_lexer": "ipython3",
   "version": "3.7.6"
  }
 },
 "nbformat": 4,
 "nbformat_minor": 4
}
