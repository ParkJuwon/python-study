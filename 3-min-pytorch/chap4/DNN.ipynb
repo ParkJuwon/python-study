{
 "cells": [
  {
   "cell_type": "markdown",
   "metadata": {},
   "source": [
    "### DNN (deep neuarl network)\n",
    "- Fashion MNIST 데이터셋 알아보기\n",
    "- 인공 신경망으로 패션 아이템 분류하기\n",
    "- 성능 측정하기\n",
    "- 과적합과 드롭아웃\n",
    "\n",
    "- 인공 신경망을 깊게 쌓아 Fashion MNIST 데이터셋으로 패션 아이템을 분류하는 딥러닝 모델을 만들어 보자"
   ]
  },
  {
   "cell_type": "markdown",
   "metadata": {},
   "source": [
    "### Fashion MNIST 데이터셋 알아보기\n",
    "- Garbage in Garbage out\n",
    "- 딥러닝에 입문하면 흔히 만나는 데이터셋이 MNIST 라는 손글씨 숫자 데이터셋\n",
    "    - MNIST 데이터베이스: (Modified National Institute of Standards and Technology database)는 손으로 쓴 숫자들로 이루어진 대형 데이터베이스\n",
    "- Fashion MNIST 는 28 x 28 필셀 70000 개의 흑백 이미지로 구성되며, 신발, 드레스, 가방 등 총 10가지 카테고리 존재\n",
    "    - 다행이도 토치비전에 fashion mnist 데이터셋을 자동으로 내려받고 학습 데이터를 나눠주는 일을 해줌\n",
    "    \n",
    "    \n",
    "- 토치비전의 몇가지 모듈 확인\n",
    "    - touch.uitls.data: 데이터셋의 표준을 정의하고 데이터셋을 불러오고 자르고 섞는 데 쓰는 도구들이 들어있는 모듈 \n",
    "        - torch.utils.data.Dataset: 파이토치 모델을 학습시키기 위한 데이터셋의 표준을 정의\n",
    "        - torch.utils.data.DataLoader: Dataset 모듈을 상속하는 파생 클래스는 학습에 필요한 데이터를 로딩해주는 해당 인스턴스의 입력으로 사용\n",
    "    - torchvision.datasets: tourch.utils.data.Dataset을 상속하는 이미지 데이터셋의 모음. 패션 아이템 데이터셋이 들어있음\n",
    "    - torchvision.transforms: 이미지 데이터셋에 쓸 수 있는 여러 가지 변환 필터를 담고 있는 모듈\n",
    "    - torchvision.utils: 이미지 데이터를 저장하고 시각화하기 위한 도구"
   ]
  },
  {
   "cell_type": "code",
   "execution_count": 48,
   "metadata": {},
   "outputs": [],
   "source": [
    "# Fashion MNIST 데이터셋 다뤄보기\n",
    "\n",
    "from torchvision import datasets, transforms, utils\n",
    "from torch.utils import data\n",
    "import matplotlib.pyplot as plt\n",
    "import numpy as np\n"
   ]
  },
  {
   "cell_type": "code",
   "execution_count": 49,
   "metadata": {},
   "outputs": [],
   "source": [
    "# 이미지를 텐서로 바꿔주는 코드.\n",
    "# 토치비전의 transforms는 입력을 변환시켜주는 도구\n",
    "# 텐서로 바꿔주는 ToTensor() 함수만 사용하고 있지만 이미지 크기 조정 Resize(), 정규화 해주는 Normalize() 등 함수가 있음\n",
    "# 기능을 추가하고 싶으면 transforms.compose() 함수 안의 리스트에 넣어주면 순서대로 변환이 이뤄집니다.\n",
    "\n",
    "transform = transforms.Compose([\n",
    "    transforms.ToTensor()\n",
    "])"
   ]
  },
  {
   "cell_type": "markdown",
   "metadata": {},
   "source": [
    "- 다음은 토치비전 Transforms 에서 자주 쓰이는 기능\n",
    "    - ToTensor: 이미지를 파이토치 텐서로 변경\n",
    "    - Resize: 이미지 크기 조정\n",
    "    - Normalize: 주어진 평균과 표준편차를 이용하여 정규화\n",
    "    - RandomHorizontalFlip: 무작위로 이미지의 오른쪽과 왼쪽을 뒤집는 기능\n",
    "    - RandomCrop: 이미지를 무작위로 자르는 기능"
   ]
  },
  {
   "cell_type": "code",
   "execution_count": 83,
   "metadata": {},
   "outputs": [],
   "source": [
    "# FashionMNIST 데이터셋을 가져옴\n",
    "# FashionMNIST 데이터셋은 학습용 트레이닝셋과 성능 평가용 테스트셋으로 나뉘어 있습니다.\n",
    "# 어느 것을 받을지는 'train' 매개 변수에 True나 False를 입력\n",
    "\n",
    "trainset = datasets.FashionMNIST(\n",
    "root = './.data/',\n",
    "train = True,\n",
    "download = True,\n",
    "transform = transform\n",
    ")\n",
    "\n",
    "testset = datasets.FashionMNIST(\n",
    "root = './.data/',\n",
    "train = False,\n",
    "download = True,\n",
    "transform = transform\n",
    ")"
   ]
  },
  {
   "cell_type": "code",
   "execution_count": 62,
   "metadata": {},
   "outputs": [],
   "source": [
    "batch_size = 16\n",
    "train_loader = data.DataLoader(\n",
    "    dataset = trainset,\n",
    "    batch_size = batch_size\n",
    ")\n",
    "\n",
    "test_loader = data.DataLoader(\n",
    "    dataset = testset,\n",
    "    batch_size = batch_size\n",
    ")"
   ]
  },
  {
   "cell_type": "code",
   "execution_count": 63,
   "metadata": {},
   "outputs": [],
   "source": [
    "# 데이터 뽑아보기\n",
    "dataiter = iter(train_loader)\n",
    "images, labels = next(dataiter)"
   ]
  },
  {
   "cell_type": "code",
   "execution_count": 64,
   "metadata": {},
   "outputs": [
    {
     "data": {
      "image/png": "[encoded data removed]",
      "text/plain": [
       "<Figure size 720x504 with 1 Axes>"
      ]
     },
     "metadata": {
      "needs_background": "light"
     },
     "output_type": "display_data"
    }
   ],
   "source": [
    "# 토치비전의 utils_make_grid() 함수를 이용하여 여러이미지를 하나의 이미지로 만들수 있음\n",
    "# img는 파이토치 텐서이기 때문에 numpy() 함수로 맷플롯립과 호환이 되는 넘파이 행렬로 변경\n",
    "# 맷플롯립이 인식하는 차원의 순서가 다르므로 np.transpose() 함수를 이용해 첫 번째 (0번째) 차원을 맨 뒤로 보냄\n",
    "img = utils.make_grid(images, padding=0)\n",
    "npimg = img.numpy()\n",
    "plt.figure(figsize = (10, 7))\n",
    "plt.imshow(np.transpose(npimg, (1,2,0)))\n",
    "plt.show()"
   ]
  },
  {
   "cell_type": "code",
   "execution_count": 54,
   "metadata": {},
   "outputs": [
    {
     "name": "stdout",
     "output_type": "stream",
     "text": [
      "tensor([9, 0, 0, 3, 0, 2, 7, 2, 5, 5, 0, 9, 5, 5, 7, 9])\n"
     ]
    }
   ],
   "source": [
    "print(labels)"
   ]
  },
  {
   "cell_type": "code",
   "execution_count": 10,
   "metadata": {},
   "outputs": [],
   "source": [
    "##### 레이블을 해석하기 편하게 딕셔너리 만들기\n",
    "CLASSES = {\n",
    "    0: 'T-shirt/top',\n",
    "    1: 'Trouser',\n",
    "    2: 'Pullover',\n",
    "    3: 'Dress',\n",
    "    4: 'Coat',\n",
    "    5: 'Sandal',\n",
    "    6: 'Shirt',\n",
    "    7: 'Sneaker',\n",
    "    8: 'Bag',\n",
    "    9: 'Ankle boot'\n",
    "}"
   ]
  },
  {
   "cell_type": "code",
   "execution_count": 11,
   "metadata": {},
   "outputs": [
    {
     "name": "stdout",
     "output_type": "stream",
     "text": [
      "Ankle boot\n",
      "T-shirt/top\n",
      "T-shirt/top\n",
      "Dress\n",
      "T-shirt/top\n",
      "Pullover\n",
      "Sneaker\n",
      "Pullover\n",
      "Sandal\n",
      "Sandal\n",
      "T-shirt/top\n",
      "Ankle boot\n",
      "Sandal\n",
      "Sandal\n",
      "Sneaker\n",
      "Ankle boot\n"
     ]
    }
   ],
   "source": [
    "# 라벨 텍스트 출력\n",
    "for label in labels:\n",
    "    index = label.item()\n",
    "    print(CLASSES[index])"
   ]
  },
  {
   "cell_type": "markdown",
   "metadata": {},
   "source": [
    "- 이미지의 데이터는 가로, 세로, 색상으로 구성된 3차원 행렬로 표현\n",
    "- 각 픽셀은 0부터 255 까지 값을 가진다\n",
    "- Fashion MNIST 에서 이미지의 크기는 28 x 28 색상 채널은 흑백 1가지\n",
    "- 그러므로 입력 x의 특징값 총 개수는 28 x 28 x 1 = 784개"
   ]
  },
  {
   "cell_type": "code",
   "execution_count": 55,
   "metadata": {},
   "outputs": [
    {
     "data": {
      "image/png": "[encoded data removed]",
      "text/plain": [
       "<Figure size 432x288 with 1 Axes>"
      ]
     },
     "metadata": {
      "needs_background": "light"
     },
     "output_type": "display_data"
    }
   ],
   "source": [
    "# 개별 이미지 꺼내보기\n",
    "idx = 1\n",
    "item_img = images[idx]\n",
    "item_npimg = item_img.squeeze().numpy()\n",
    "plt.title(CLASSES[labels[idx].item()])\n",
    "plt.imshow(item_npimg, cmap='gray')\n",
    "plt.show()"
   ]
  },
  {
   "cell_type": "markdown",
   "metadata": {},
   "source": [
    "### 인공 신경망으로 패션 아이템 분류하기"
   ]
  },
  {
   "cell_type": "code",
   "execution_count": 15,
   "metadata": {},
   "outputs": [
    {
     "data": {
      "text/plain": [
       "False"
      ]
     },
     "execution_count": 15,
     "metadata": {},
     "output_type": "execute_result"
    }
   ],
   "source": [
    "# 파이토치, 인공 신경망 모델의 재료들을 담고 있는 nn 모듈, 최적화를 위한 optim 모듈, nn모듈의 함수버전인 functional을 F로 불러옴\n",
    "# 토치비전의 데이터셋을 다루기 위해 transforms와 dataset을 임포트\n",
    "\n",
    "import torch\n",
    "import torch.nn as nn\n",
    "import torch.optim as optim\n",
    "import torch.nn.functional as F\n",
    "from torchvision import transforms, datasets\n"
   ]
  },
  {
   "cell_type": "code",
   "execution_count": 38,
   "metadata": {},
   "outputs": [],
   "source": [
    "# 현재 컴퓨터에서 CUDA를 이용할수 있는지 알아보는 함수\n",
    "USE_CUDA = torch.cuda.is_available()\n",
    "# GPU를 가진 누군가가 설정할수 있도록\n",
    "DEVICE = torch.device(\"cuda\" if USE_CUDA else \"cpu\")\n",
    "\n",
    "# Fashin MNIST 부터는 데이터가 많아서 한꺼번에 사용하는 것은 호율적이지 ㅇ낳으니\n",
    "# 여러개의 배치로 잘라서 사용\n",
    "\n",
    "# 깃허브를 보면 배치 크기와 모델 가중치가 2의 거듭제곱으로 설정된 경우가 많음\n",
    "# CPU, GPU 메모리 크기가 2의 배수이기 때문에 배치 크기의 2의 n승이면 메모리에서 데이터를 주고받는 효율을 높일 수 있다고 함\n",
    "EPOCHS = 30\n",
    "BATCH_SIZE = 64\n",
    "\n",
    "transform = transforms.Compose([\n",
    "    transforms.ToTensor()\n",
    "])\n",
    "\n",
    "trainset = datasets.FashionMNIST(\n",
    "root = './.data/',\n",
    "train = True,\n",
    "download = True,\n",
    "transform = transform\n",
    ")\n",
    "\n",
    "testset = datasets.FashionMNIST(\n",
    "root = './.data/',\n",
    "train = False,\n",
    "download = True,\n",
    "transform = transform\n",
    ")\n",
    "\n",
    "train_loader = torch.utils.data.DataLoader(\n",
    "    dataset = trainset,\n",
    "    batch_size = BATCH_SIZE,\n",
    "    shuffle = True\n",
    ")\n",
    "\n",
    "test_loader = torch.utils.data.DataLoader(\n",
    "    dataset = testset,\n",
    "    batch_size = BATCH_SIZE,\n",
    "    shuffle = True\n",
    ")"
   ]
  },
  {
   "cell_type": "code",
   "execution_count": 17,
   "metadata": {},
   "outputs": [],
   "source": [
    "# 이미지 분류를 위한 인공 신경망 구현\n",
    "# 모델은 입력 x와 레이블 y를 받아 학습한 다음 새로운 x가 왔을 때 어떤 패션아이템인지 예측\n",
    "# 레이어가 3개인 3층 인공 신경망 사용\n",
    "\n",
    "# 모델의 가중치 변수들이 들어가는 연산을 선언\n",
    "# nn.Linear 클래스는 선형결합을 수행하는 객체를 생성\n",
    "\n",
    "# fc1() 은 픽셀값 784개를 입력받아 가중치를 행렬 곱하고 편향을 더해 값 256개를 출력\n",
    "# 똑같은 과정으로 fc2(), fc3() 함수를 거쳐 마지막에 값 10개를 출력\n",
    "# 출력값 10개 각각은 클래스를 나타내며 10개중 가장 값이 큰 클래스가 모델의 예측값\n",
    "\n",
    "# fc는  'fully connected' 의 약자로 이전 레이어의 모든 노드가 다음 레이어의 모든 노드에 연결된 층\n",
    "# 다른 말로는 Dense 층이라고 함(케라스에서 주로 활용)\n",
    "\n",
    "class Net(nn.Module):\n",
    "    def __init__(self):\n",
    "        super(Net, self).__init__()\n",
    "        self.fc1 = nn.Linear(784, 256)\n",
    "        self.fc2 = nn.Linear(256, 128)\n",
    "        self.fc3 = nn.Linear(128, 10)\n",
    "        \n",
    "    # 입력을 받아 veiw() 함수를 이용하여 1차원 행렬로 만든 후, fc1(), fc2() 함수를 거친 데이터는\n",
    "    # ReLU() 활성화 함수를 거침 (가중치가 없는 연산은 torch.nn.functional 에 있는 함수를 직접 사용하기도 함)\n",
    "    def forward(self, x):\n",
    "        x = x.view(-1, 784)\n",
    "        x = F.relu(self.fc1(x))\n",
    "        x = F.relu(self.fc2(x))\n",
    "        x = self.fc3(x)\n",
    "        return x\n",
    "        "
   ]
  },
  {
   "cell_type": "code",
   "execution_count": 39,
   "metadata": {},
   "outputs": [],
   "source": [
    "# 모델 설계가 끝났으니 모델 선언\n",
    "# 선언과 동시에 to() 함수로 어디에서 수행할지 정할 수 있음\n",
    "model = Net().to(DEVICE)\n",
    "\n",
    "# 최적화 알고리즘으로 파이토치 내장 모듈인 SGD 사용 (확률적 경사하강법)\n",
    "optimizer = optim.SGD(model.parameters(), lr=0.01)\n",
    "\n",
    "# 학습은 데이터를 보고 가중치를 조절하는 작업을 반복\n",
    "def train(model, train_loader, optimizer):\n",
    "    # 학습할 model, 데이터를 공급해주는 train_loader, 최적화를 담당할 optimizer\n",
    "\n",
    "    # 학습모드로 바꿈\n",
    "    # 지금은 모드가 상관없지만 학습/평가 모드에 따라 동작이 다른 파이토치 모듈(드롭아웃 등) 이 있으므로 습관을 들이는게 좋음\n",
    "    model.train()\n",
    "\n",
    "    # 모델의 가중치를 GPU로 보냈다면 학습 데이터도 같은 장치로 보내야 연산을 수행할 수 있음\n",
    "    for batch_idx, (data, target) in enumerate(train_loader):\n",
    "        # 학습 데이터를 DEVICE의 메모리로 보냄\n",
    "        data, target = data.to(DEVICE), target.to(DEVICE)\n",
    "\n",
    "        # 학습 단계는 앞 장과 비슷\n",
    "        # 반복 떄마다 기울기 계산 : optimizer.zero_grad()\n",
    "        # 학습 데이터의 대한 모델의 예측값 output 받아옴\n",
    "\n",
    "        # output과 target의 오차를 구함\n",
    "        # 앞장은 클래스가 2개 뿐이라서 이진교차엔트로피(binary cross entropy)를 이용했지만\n",
    "        # 이번장은 10개가 존재하므로 교차 엔트로피 (cross entropy)사용\n",
    "        # 참조 : https://www.youtube.com/watch?v=jMU9G5WEtBc&feature=youtu.be\n",
    "\n",
    "        # 오차에서 backward() 함수를 실행하면 기울기가 계산되고\n",
    "        # optimizer.step() 함수는 계산한 기울기를 앞서 정의한 알고리즘에 맞추어 가중치 수정\n",
    "        optimizer.zero_grad()\n",
    "        output = model(data)\n",
    "        loss = F.cross_entropy(output, target)\n",
    "        loss.backward()\n",
    "        optimizer.step()"
   ]
  },
  {
   "cell_type": "markdown",
   "metadata": {},
   "source": [
    "### 성능 측정\n",
    "- 세상의 존재하는 모든 데이터에 최적화 하는 것을 일반화(generalization)라 하고\n",
    "- 학습 데이터를 기반으로 한 모델이 학습하지 않은 데이터에 얼마나 적응하는지를 수치로 나타내는 것을 일반화 오류(generalization error)라고 함\n",
    "- 일반화 오류는 학습과 실제 성능의 괴리를 뜻하므로 작을수록 좋음\n",
    "\n",
    "\n",
    "\n",
    "- 학습 데이터의 일부를 떼어내어 평가용 데이터셋 마련\n",
    "- 보통 테스트셋 이라고 함\n",
    "- 모델이 학습과정에서 본 적이 없는 '실제 세상의 모든 데이터'를 대표\n",
    "\n",
    "\n",
    "- Fashion MNIST 는 비교적 규모가 작은 데이터셋이므로 학습과 테스트 두가지로 나눠져 있음\n",
    "- 일반적인 머신러닝 데이터셋은 학습, 검증, 테스트 3단계로 나뉨\n",
    "- 학습용 데이터셋은 가중치를 조절하고, 검증용 데이터셋은 배치 크기와 모델 설계 같은 하이퍼파라미터를 조절하는데 사용\n",
    "    - 하이퍼파라미터: 모델 층의 종류와 크기, 배치크기, 학습률 등 머신러닝 모델이 배우지 않고 사용자가 직접 지정해주는 값\n",
    "- 테스트용 데이터셋은 성능 보고에 사용"
   ]
  },
  {
   "cell_type": "code",
   "execution_count": 42,
   "metadata": {},
   "outputs": [],
   "source": [
    "# 모델이 일반화를 얼마나 잘하는지 알아보고, 학습을 언제 멈추어야 할지 알아내는 용도로 epoch이 끝날때 마다 성능 측정\n",
    "def evaluate(model, test_loader):\n",
    "\n",
    "    # 모델을 평가 모드로 바꿈\n",
    "    model.eval()\n",
    "\n",
    "    # 테스트 오차와 예측이 맞는 수를 0으로 초기화\n",
    "    test_loss = 0\n",
    "    correct = 0\n",
    "\n",
    "    # 학습 때와 같이 데이터를 DEVICE로 보내고 예측값인 output을 받아옴\n",
    "    with torch.no_grad():\n",
    "        for data, target in test_loader:\n",
    "            data, target = data.to(DEVICE), target.to(DEVICE)\n",
    "            output = model(data)\n",
    "\n",
    "            # 평가를 위해서는 교차 엔트로피를 거칠 때 reduction='sum'을 지정해주어 미니배치의 평균 대신 합을 받아야함\n",
    "            # 테스트셋을 모두 돌고나면 test_loss는 모든 테스트셋의 오차의 합이 됨\n",
    "\n",
    "            # 모든 오차 더하기\n",
    "            test_loss += F.cross_entropy(output, target, reduction='sum').item()\n",
    "\n",
    "            # 오차정보도 유용하게 쓰이지만 사람에게 더 직관적인 정보는 '테스트셋에서 모델이 얼마나 맞췄느냐' 이다.\n",
    "            # ouput.max()함수는 2개의 값을 출력\n",
    "            # 가장 큰값과 그 값이 있는 자리 (인덱스) 이다\n",
    "\n",
    "            # 추출한 모델의 예측 패션 아이템과 레이블이 일치하는지 eq() 함수를 이용해 판단\n",
    "            # 일치하면 1, 아니면 0\n",
    "            # 배열에서 가장 큰 값이 있는 인덱스를 출력하는 함수를 다른말로 argmax 함수라고 부름\n",
    "\n",
    "            # 가장 큰값을 가진 클래스가 모델의 예측\n",
    "            # 예측과 정답을 비교하여 일치할 경우 correct에 1을 더함\n",
    "            pred = output.max(1, keepdim=True)[1]\n",
    "            correct += pred.eq(target.view_as(pred)).sum().item()\n",
    "\n",
    "    # 이 값들을 테스트셋의 데이터 수로 나눠 평균을 구함\n",
    "    # 총 정답 평균에는 100을 곱하여 정확도(accuracy)를 구함\n",
    "    test_loss /= len(test_loader.dataset)\n",
    "    test_accuracy = 100 * correct / len(test_loader.dataset)\n",
    "    return test_loss, test_accuracy"
   ]
  },
  {
   "cell_type": "code",
   "execution_count": 43,
   "metadata": {},
   "outputs": [
    {
     "name": "stdout",
     "output_type": "stream",
     "text": [
      "[1] Test Loss: 0.4947, Accuracy: 82.29%\n",
      "[2] Test Loss: 0.4747, Accuracy: 83.38%\n",
      "[3] Test Loss: 0.4841, Accuracy: 82.26%\n",
      "[4] Test Loss: 0.4779, Accuracy: 82.63%\n",
      "[5] Test Loss: 0.5007, Accuracy: 81.46%\n",
      "[6] Test Loss: 0.4664, Accuracy: 83.51%\n",
      "[7] Test Loss: 0.4406, Accuracy: 84.44%\n",
      "[8] Test Loss: 0.4461, Accuracy: 84.18%\n",
      "[9] Test Loss: 0.4310, Accuracy: 85.00%\n",
      "[10] Test Loss: 0.4261, Accuracy: 85.02%\n",
      "[11] Test Loss: 0.4222, Accuracy: 84.94%\n",
      "[12] Test Loss: 0.4136, Accuracy: 85.48%\n",
      "[13] Test Loss: 0.4358, Accuracy: 84.54%\n",
      "[14] Test Loss: 0.4079, Accuracy: 85.44%\n",
      "[15] Test Loss: 0.4065, Accuracy: 85.64%\n",
      "[16] Test Loss: 0.4017, Accuracy: 85.63%\n",
      "[17] Test Loss: 0.4068, Accuracy: 85.37%\n",
      "[18] Test Loss: 0.4128, Accuracy: 85.25%\n",
      "[19] Test Loss: 0.3827, Accuracy: 86.30%\n",
      "[20] Test Loss: 0.3905, Accuracy: 86.03%\n",
      "[21] Test Loss: 0.3858, Accuracy: 86.08%\n",
      "[22] Test Loss: 0.4003, Accuracy: 85.30%\n",
      "[23] Test Loss: 0.3850, Accuracy: 86.24%\n",
      "[24] Test Loss: 0.3740, Accuracy: 86.69%\n",
      "[25] Test Loss: 0.4090, Accuracy: 85.67%\n",
      "[26] Test Loss: 0.3776, Accuracy: 86.49%\n",
      "[27] Test Loss: 0.3703, Accuracy: 86.57%\n",
      "[28] Test Loss: 0.3682, Accuracy: 86.84%\n",
      "[29] Test Loss: 0.3692, Accuracy: 86.64%\n",
      "[30] Test Loss: 0.3671, Accuracy: 86.85%\n"
     ]
    }
   ],
   "source": [
    "# 코드를 돌려서 실제로 학습이 되는지 확인\n",
    "for epoch in range(1, EPOCHS + 1):\n",
    "    train(model, train_loader, optimizer)\n",
    "    test_loss, test_accuracy = evaluate(model, test_loader)\n",
    "    \n",
    "    print('[{}] Test Loss: {:.4f}, Accuracy: {:.2f}%'.format(epoch, test_loss, test_accuracy))"
   ]
  },
  {
   "cell_type": "markdown",
   "metadata": {},
   "source": [
    "### 과적합과 드롭아웃\n",
    "- 시험 유형이 바뀌면 좋은 점수를 받기가 힘들다. 머신러닝에서도 비슷한 일이 일어난다\n",
    "- 앞에서 측정법과 데이터 셋을 나누는 이유를 알아보았다\n",
    "- 모델을 만들면 학습 성능은 잘 나오지만 테스트셋이나 실제 상황에서는 성능이 나오지 않을 때가 있다.\n",
    "- 이것을 과적합(Overfittting) 현상이라고 한다\n",
    "- 학습데이터에만 치중되어 유연성이 부족. 그 결과 새로운 데이터에서는 성능이 잘 안나옴\n",
    "- 과적합과 반대로 학습을 제대로 진행하지 않은 상황을 과소적합(Underfitting) 현상이라 함\n",
    "- 우리가 원하는 것은 과소적합과 과적합의 중간, 일반화(generalization)라고 함\n",
    "- 과적합이 일어났는지 어떻게 알수 있을까?\n",
    "    - 데이터셋을 학습, 검증, 테스트셋으로 나누는 것도 과적합을 탐지하는 노력\n",
    "    - 검증 데이터셋에 대한 성능이 나빠지기 시작하기 직전이 가장 적합한 모델, 조기종료(early stopping)라고 함\n",
    "    - 학습을 무한히 진행하다보면 오차는 0으로 수렴하지만, 검증오차는 어느순간 올라가게 된다. 그 순간을 포착\n",
    "- 과적합은 학습 데이터를 늘리는 방법과 과적합 방지 기능을 하는 드롭아웃을 모델 구조에 적용하는 방법이 있다."
   ]
  },
  {
   "cell_type": "code",
   "execution_count": 67,
   "metadata": {},
   "outputs": [],
   "source": [
    "# 데이터 늘리기\n",
    "# 과적합을 방지하는 궁극적인 방법은 모든데이터를 모음\n",
    "# 하지만 불가능 하므로 이미 가진 데이터를 최대한 늘리는 방법(data argumentation) 을 찾아야 함\n",
    "# 데이터를 직접 조작하는 것은 귀찮은 일이나, 토치비전의 transforms 패키지를 사용하면 간단\n",
    "\n",
    "# train_loader = torch.utils.data.DataLoader(\n",
    "#     datasets.MNIST('./.data',\n",
    "#                   train=True,\n",
    "#                   download=True,\n",
    "#                   transform=transforms.Compose([\n",
    "#                       transforms.RandomHorizontalFlip(), # 이 함수는 이미지를 무작위로 수평 뒤집기 한다 (학습 예제의 수가 2배로 늘어남)\n",
    "#                       transforms.ToTensor(),\n",
    "#                       transforms.Normalize((0.1307,), (0.3081,))\n",
    "#                   ])),\n",
    "#     batch_size=BATCH_SIZE, shuffle=True)\n",
    "\n",
    "# test_loader = torch.utils.data.DataLoader(\n",
    "#     datasets.MNIST('./.data',\n",
    "#                   train=False,\n",
    "#                   transform=transforms.Compose([\n",
    "#                       transforms.ToTensor(),\n",
    "#                       transforms.Normalize((0.1307,), (0.3081,))\n",
    "#                   ])),\n",
    "#     batch_size=BATCH_SIZE, shuffle=True)\n",
    "\n",
    "\n",
    "train_loader = torch.utils.data.DataLoader(\n",
    "    datasets.FashionMNIST('./.data',\n",
    "                  train=True,\n",
    "                  download=True,\n",
    "                  transform=transforms.Compose([\n",
    "                      transforms.RandomHorizontalFlip(), # 이 함수는 이미지를 무작위로 수평 뒤집기 한다 (학습 예제의 수가 2배로 늘어남)\n",
    "                      transforms.ToTensor(),\n",
    "                      transforms.Normalize((0.1307,), (0.3081,))\n",
    "                  ])),\n",
    "    batch_size=batch_size, shuffle=True)\n",
    "\n",
    "test_loader = torch.utils.data.DataLoader(\n",
    "    datasets.FashionMNIST('./.data',\n",
    "                  train=False,\n",
    "                  transform=transforms.Compose([\n",
    "                      transforms.ToTensor(),\n",
    "                      transforms.Normalize((0.1307,), (0.3081,))\n",
    "                  ])),\n",
    "    batch_size=batch_size, shuffle=True)"
   ]
  },
  {
   "cell_type": "code",
   "execution_count": 76,
   "metadata": {},
   "outputs": [
    {
     "name": "stderr",
     "output_type": "stream",
     "text": [
      "Clipping input data to the valid range for imshow with RGB data ([0..1] for floats or [0..255] for integers).\n"
     ]
    },
    {
     "data": {
      "image/png": "[encoded data removed]",
      "text/plain": [
       "<Figure size 720x504 with 1 Axes>"
      ]
     },
     "metadata": {
      "needs_background": "light"
     },
     "output_type": "display_data"
    }
   ],
   "source": [
    "dataiter = iter(train_loader)\n",
    "images, labels = next(dataiter)\n",
    "\n",
    "img = utils.make_grid(images, padding=0)\n",
    "npimg = img.numpy()\n",
    "plt.figure(figsize = (10, 7))\n",
    "plt.imshow(np.transpose(npimg, (1,2,0)))\n",
    "plt.show()"
   ]
  },
  {
   "cell_type": "markdown",
   "metadata": {},
   "source": [
    "#### 드롭아웃\n",
    "\n",
    "- 데이터도 중요하지만 모델에 직접 영향을 주어 과적합을 해결하는 좋은 방법으로 드롭 아웃이 있다.\n",
    "- 드롭아웃은 학습 진행 과정에서 신경망의 일부를 사용하지 않는 방법\n",
    "- 검증과 테스트 단계에서는 모든 뉴런을 사용\n",
    "- 이유는, 학습에서 배재된 뉴런 외에 다른 뉴런들에게 가중치를 분산 시키고 개별 뉴런이 특징에 고정되는 현상을 방지"
   ]
  },
  {
   "cell_type": "code",
   "execution_count": 78,
   "metadata": {},
   "outputs": [],
   "source": [
    "class Net(nn.Module):\n",
    "    def __init__(self, dropout_p=0.2): # 학습시 20% 뉴런을 사용하지 않음\n",
    "        super(Net, self).__init__()\n",
    "        self.fc1 = nn.Linear(784,256)\n",
    "        self.fc2 = nn.Linear(256, 128)\n",
    "        self.fc3 = nn.Linear(128, 10)\n",
    "        \n",
    "        # 드롭아웃 확률\n",
    "        self.dropout_p = dropout_p\n",
    "    \n",
    "    def forward(self, x):\n",
    "        x = x.view(-1, 784)\n",
    "        x = F.relu(self.fc1(x))\n",
    "        # 드롭아웃 추가\n",
    "        x = F.dropout(x, training=self.training,\n",
    "                     p=self.dropout_p)\n",
    "        x = F.relu(self.fc2(x))\n",
    "        #드롭아웃 추가\n",
    "        x = F.dropout(x, training=self.training,\n",
    "                     p=self.dropout_p)\n",
    "        x = self.fc3(x)\n",
    "        return x\n",
    "\n"
   ]
  },
  {
   "cell_type": "code",
   "execution_count": 81,
   "metadata": {},
   "outputs": [],
   "source": [
    "\n",
    "USE_CUDA = torch.cuda.is_available()\n",
    "DEVICE = torch.device(\"cuda\" if USE_CUDA else \"cpu\")\n",
    "\n",
    "EPOCHS = 50\n",
    "BATCH_SIZE = 64\n",
    "\n",
    "model = Net(dropout_p=0.2).to(DEVICE)\n",
    "optimizer = optim.SGD(model.parameters(), lr=0.01)\n",
    "\n",
    "\n",
    "\n",
    "def train(model, train_loader, optimizer):\n",
    "    model.train()\n",
    "\n",
    "    for batch_idx, (data, target) in enumerate(train_loader):\n",
    "        data, target = data.to(DEVICE), target.to(DEVICE)\n",
    "        optimizer.zero_grad()\n",
    "        output = model(data)\n",
    "        loss = F.cross_entropy(output, target)\n",
    "        loss.backward()\n",
    "        optimizer.step()\n",
    "        \n",
    "        \n",
    "def evaluate(model, test_loader):\n",
    "    model.eval()\n",
    "    test_loss = 0\n",
    "    correct = 0\n",
    "    \n",
    "    with torch.no_grad():\n",
    "        for data, target in test_loader:\n",
    "            data, target = data.to(DEVICE), target.to(DEVICE)\n",
    "            output = model(data)\n",
    "\n",
    "            test_loss += F.cross_entropy(output, target, reduction='sum').item()\n",
    "            \n",
    "            # 맞힌 개수 계산\n",
    "            pred = output.max(1, keepdim=True)[1]\n",
    "            correct += pred.eq(target.view_as(pred)).sum().item()\n",
    "            \n",
    "    test_loss /= len(test_loader.dataset)\n",
    "    test_accuracy = 100 * correct / len(test_loader.dataset)\n",
    "    return test_loss, test_accuracy\n",
    "\n",
    "\n"
   ]
  },
  {
   "cell_type": "code",
   "execution_count": 82,
   "metadata": {},
   "outputs": [
    {
     "name": "stdout",
     "output_type": "stream",
     "text": [
      "[1] Test Loss: 0.4812, Accuracy: 82.82%\n",
      "[2] Test Loss: 0.4285, Accuracy: 84.51%\n",
      "[3] Test Loss: 0.4030, Accuracy: 85.24%\n",
      "[4] Test Loss: 0.3901, Accuracy: 85.69%\n",
      "[5] Test Loss: 0.3754, Accuracy: 86.36%\n",
      "[6] Test Loss: 0.3688, Accuracy: 86.24%\n",
      "[7] Test Loss: 0.3545, Accuracy: 87.28%\n",
      "[8] Test Loss: 0.3464, Accuracy: 87.53%\n",
      "[9] Test Loss: 0.3514, Accuracy: 87.51%\n",
      "[10] Test Loss: 0.3525, Accuracy: 87.55%\n",
      "[11] Test Loss: 0.3421, Accuracy: 87.36%\n",
      "[12] Test Loss: 0.3326, Accuracy: 88.01%\n",
      "[13] Test Loss: 0.3279, Accuracy: 88.05%\n",
      "[14] Test Loss: 0.3408, Accuracy: 87.91%\n",
      "[15] Test Loss: 0.3247, Accuracy: 88.31%\n",
      "[16] Test Loss: 0.3422, Accuracy: 87.79%\n",
      "[17] Test Loss: 0.3196, Accuracy: 88.49%\n",
      "[18] Test Loss: 0.3247, Accuracy: 88.58%\n",
      "[19] Test Loss: 0.3128, Accuracy: 88.63%\n",
      "[20] Test Loss: 0.3207, Accuracy: 88.33%\n",
      "[21] Test Loss: 0.3170, Accuracy: 88.58%\n",
      "[22] Test Loss: 0.3138, Accuracy: 88.72%\n",
      "[23] Test Loss: 0.3201, Accuracy: 88.51%\n",
      "[24] Test Loss: 0.3098, Accuracy: 88.97%\n",
      "[25] Test Loss: 0.3206, Accuracy: 88.47%\n",
      "[26] Test Loss: 0.3083, Accuracy: 89.10%\n",
      "[27] Test Loss: 0.3164, Accuracy: 88.55%\n",
      "[28] Test Loss: 0.3150, Accuracy: 88.76%\n",
      "[29] Test Loss: 0.3077, Accuracy: 89.03%\n",
      "[30] Test Loss: 0.3059, Accuracy: 89.07%\n",
      "[31] Test Loss: 0.3056, Accuracy: 89.21%\n",
      "[32] Test Loss: 0.3102, Accuracy: 89.01%\n",
      "[33] Test Loss: 0.3061, Accuracy: 89.23%\n",
      "[34] Test Loss: 0.3104, Accuracy: 89.12%\n",
      "[35] Test Loss: 0.3091, Accuracy: 89.24%\n",
      "[36] Test Loss: 0.3024, Accuracy: 89.50%\n",
      "[37] Test Loss: 0.3100, Accuracy: 89.36%\n",
      "[38] Test Loss: 0.3118, Accuracy: 89.48%\n",
      "[39] Test Loss: 0.3085, Accuracy: 89.17%\n",
      "[40] Test Loss: 0.3122, Accuracy: 89.43%\n",
      "[41] Test Loss: 0.3184, Accuracy: 89.20%\n",
      "[42] Test Loss: 0.3069, Accuracy: 89.37%\n",
      "[43] Test Loss: 0.3136, Accuracy: 89.40%\n",
      "[44] Test Loss: 0.3069, Accuracy: 89.56%\n",
      "[45] Test Loss: 0.3245, Accuracy: 89.30%\n",
      "[46] Test Loss: 0.3118, Accuracy: 89.51%\n",
      "[47] Test Loss: 0.3079, Accuracy: 89.38%\n",
      "[48] Test Loss: 0.3088, Accuracy: 89.55%\n",
      "[49] Test Loss: 0.3099, Accuracy: 89.54%\n",
      "[50] Test Loss: 0.3159, Accuracy: 89.64%\n"
     ]
    }
   ],
   "source": [
    "# 데이터셋에 노이즈를 추가하거나 모델에 드롭아웃을 적용할 때 최고 성능에 도달하는데 걸리는 시간은 길어짐\n",
    "# 데이터셋이 늘고, 모델이 느리게 학습되기 때문\n",
    "\n",
    "for epoch in range(1, EPOCHS + 1):\n",
    "    train(model, train_loader, optimizer)\n",
    "    test_loss, test_accuracy = evaluate(model, test_loader)\n",
    "    \n",
    "    print('[{}] Test Loss: {:.4f}, Accuracy: {:.2f}%'.format(epoch, test_loss, test_accuracy))"
   ]
  },
  {
   "cell_type": "code",
   "execution_count": null,
   "metadata": {},
   "outputs": [],
   "source": []
  }
 ],
 "metadata": {
  "kernelspec": {
   "display_name": "Python 3",
   "language": "python",
   "name": "python3"
  },
  "language_info": {
   "codemirror_mode": {
    "name": "ipython",
    "version": 3
   },
   "file_extension": ".py",
   "mimetype": "text/x-python",
   "name": "python",
   "nbconvert_exporter": "python",
   "pygments_lexer": "ipython3",
   "version": "3.7.3"
  }
 },
 "nbformat": 4,
 "nbformat_minor": 2
}
