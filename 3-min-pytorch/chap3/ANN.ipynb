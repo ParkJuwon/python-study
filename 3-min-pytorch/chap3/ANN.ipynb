{
 "cells": [
  {
   "cell_type": "code",
   "execution_count": 1,
   "metadata": {},
   "outputs": [],
   "source": [
    "import torch"
   ]
  },
  {
   "cell_type": "code",
   "execution_count": 2,
   "metadata": {},
   "outputs": [
    {
     "name": "stdout",
     "output_type": "stream",
     "text": [
      "tensor([[1, 2, 3],\n",
      "        [4, 5, 6],\n",
      "        [7, 8, 9]])\n"
     ]
    }
   ],
   "source": [
    "x = torch.tensor([[1,2,3], [4,5,6], [7,8,9]])\n",
    "print(x)"
   ]
  },
  {
   "cell_type": "code",
   "execution_count": 5,
   "metadata": {},
   "outputs": [
    {
     "name": "stdout",
     "output_type": "stream",
     "text": [
      "size:  torch.Size([3, 3])\n",
      "shape:  torch.Size([3, 3])\n",
      "랭크 (차원):  2\n"
     ]
    }
   ],
   "source": [
    "print(\"size: \", x.size())\n",
    "print(\"shape: \", x.shape)\n",
    "print(\"랭크 (차원): \", x.ndimension())"
   ]
  },
  {
   "cell_type": "code",
   "execution_count": 6,
   "metadata": {},
   "outputs": [
    {
     "name": "stdout",
     "output_type": "stream",
     "text": [
      "tensor([[[1, 2, 3],\n",
      "         [4, 5, 6],\n",
      "         [7, 8, 9]]])\n",
      "size:  torch.Size([1, 3, 3])\n",
      "shape:  torch.Size([1, 3, 3])\n",
      "랭크 (차원):  3\n"
     ]
    }
   ],
   "source": [
    "# 랭크 늘리기\n",
    "x = torch.unsqueeze(x, 0)\n",
    "print(x)\n",
    "print(\"size: \", x.size())\n",
    "print(\"shape: \", x.shape)\n",
    "print(\"랭크 (차원): \", x.ndimension())\n",
    "\n",
    "# 랭크가 늘어나도 텐서 속 원소의 수는 유지"
   ]
  },
  {
   "cell_type": "code",
   "execution_count": 7,
   "metadata": {},
   "outputs": [
    {
     "name": "stdout",
     "output_type": "stream",
     "text": [
      "tensor([[1, 2, 3],\n",
      "        [4, 5, 6],\n",
      "        [7, 8, 9]])\n",
      "size:  torch.Size([3, 3])\n",
      "shape:  torch.Size([3, 3])\n",
      "랭크 (차원):  2\n"
     ]
    }
   ],
   "source": [
    "# 랭크 줄이기\n",
    "x = torch.squeeze(x)\n",
    "print(x)\n",
    "print(\"size: \", x.size())\n",
    "print(\"shape: \", x.shape)\n",
    "print(\"랭크 (차원): \", x.ndimension())"
   ]
  },
  {
   "cell_type": "code",
   "execution_count": 8,
   "metadata": {},
   "outputs": [
    {
     "name": "stdout",
     "output_type": "stream",
     "text": [
      "tensor([1, 2, 3, 4, 5, 6, 7, 8, 9])\n",
      "size:  torch.Size([9])\n",
      "shape:  torch.Size([9])\n",
      "랭크 (차원):  1\n"
     ]
    }
   ],
   "source": [
    "x = x.view(9)\n",
    "print(x)\n",
    "print(\"size: \", x.size())\n",
    "print(\"shape: \", x.shape)\n",
    "print(\"랭크 (차원): \", x.ndimension())"
   ]
  },
  {
   "cell_type": "code",
   "execution_count": 12,
   "metadata": {},
   "outputs": [
    {
     "name": "stdout",
     "output_type": "stream",
     "text": [
      "w size:  torch.Size([5, 3])\n",
      "x size:  torch.Size([3, 2])\n",
      "w :  tensor([[ 0.8157, -1.3716, -0.2836],\n",
      "        [ 0.9569, -0.6184,  0.7004],\n",
      "        [-1.0735,  1.2073,  2.7927],\n",
      "        [-0.2480, -1.7317, -0.1756],\n",
      "        [ 0.1799, -0.3820,  1.3967]])\n",
      "x :  tensor([[1., 2.],\n",
      "        [3., 4.],\n",
      "        [5., 6.]])\n",
      "b size:  torch.Size([5, 2])\n",
      "b :  tensor([[-0.6123,  0.9572],\n",
      "        [ 0.6999,  0.4241],\n",
      "        [-0.9978,  0.1575],\n",
      "        [ 0.2561, -0.5796],\n",
      "        [-0.8938,  1.1483]])\n"
     ]
    }
   ],
   "source": [
    "# 행렬 곱\n",
    "\n",
    "w = torch.randn(5,3, dtype=torch.float)\n",
    "x = torch.tensor([[1.0, 2.0], [3.0, 4.0], [5.0, 6.0]])\n",
    "\n",
    "print('w size: ', w.size())\n",
    "print('x size: ', x.size())\n",
    "\n",
    "print('w : ', w)\n",
    "print('x : ', x)\n",
    "\n",
    "b = torch.randn(5,2, dtype=torch.float)\n",
    "print('b size: ', b.size())\n",
    "print('b : ', b)\n"
   ]
  },
  {
   "cell_type": "code",
   "execution_count": 14,
   "metadata": {},
   "outputs": [
    {
     "name": "stdout",
     "output_type": "stream",
     "text": [
      "wx size :  torch.Size([5, 2])\n",
      "wx :  tensor([[-4.7172, -5.5567],\n",
      "        [ 2.6036,  3.6425],\n",
      "        [16.5120, 19.4386],\n",
      "        [-6.3210, -8.4763],\n",
      "        [ 6.0173,  7.2119]])\n",
      "result size:  torch.Size([5, 2])\n",
      "result:  tensor([[-5.3296, -4.5996],\n",
      "        [ 3.3035,  4.0665],\n",
      "        [15.5142, 19.5961],\n",
      "        [-6.0649, -9.0559],\n",
      "        [ 5.1234,  8.3602]])\n"
     ]
    }
   ],
   "source": [
    "# 행렬곱은 torch.mm() 함수를 사용\n",
    "\n",
    "wx = torch.mm(w, x) # w행은 5, x열은 2, 즉 shape는 [5, 2]\n",
    "print('wx size : ', wx.size())\n",
    "print('wx : ', wx)\n",
    "\n",
    "result = wx + b\n",
    "print('result size: ', result.size())\n",
    "print('result: ', result)\n"
   ]
  },
  {
   "cell_type": "code",
   "execution_count": 18,
   "metadata": {},
   "outputs": [],
   "source": [
    "# Autograd\n",
    "w = torch.tensor(1.0, requires_grad=True)\n",
    "a = w * 3\n",
    "l = a**2"
   ]
  },
  {
   "cell_type": "code",
   "execution_count": 19,
   "metadata": {},
   "outputs": [
    {
     "name": "stdout",
     "output_type": "stream",
     "text": [
      "l을 w로 미분한 값은 18.0\n"
     ]
    }
   ],
   "source": [
    "l.backward()\n",
    "print('l을 w로 미분한 값은 {}'.format(w.grad))"
   ]
  },
  {
   "cell_type": "code",
   "execution_count": 21,
   "metadata": {},
   "outputs": [
    {
     "data": {
      "text/plain": [
       "<matplotlib.image.AxesImage at 0x11e5e43c8>"
      ]
     },
     "execution_count": 21,
     "metadata": {},
     "output_type": "execute_result"
    },
    {
     "data": {
      "image/png": "[encoded data removed]",
      "text/plain": [
       "<Figure size 432x288 with 1 Axes>"
      ]
     },
     "metadata": {
      "needs_background": "light"
     },
     "output_type": "display_data"
    }
   ],
   "source": [
    "### 오염된 이미지 복원\n",
    "import pickle\n",
    "import matplotlib.pyplot as plt\n",
    "\n",
    "broken_image = torch.FloatTensor(pickle.load(open('./broken_image_t.p', 'rb'), encoding='latin1'))\n",
    "plt.imshow(broken_image.view(100,100))\n"
   ]
  },
  {
   "cell_type": "code",
   "execution_count": 38,
   "metadata": {},
   "outputs": [],
   "source": [
    "def weird_function(x, n_iter=5):\n",
    "    h = x    \n",
    "    filt = torch.tensor([-1./3, 1./3, -1./3])\n",
    "    for i in range(n_iter):\n",
    "        zero_tensor = torch.tensor([1.0*0])\n",
    "        h_l = torch.cat( (zero_tensor, h[:-1]), 0)\n",
    "        h_r = torch.cat((h[1:], zero_tensor), 0 )\n",
    "        h = filt[0] * h + filt[2] * h_l + filt[1] * h_r\n",
    "        if i % 2 == 0:\n",
    "            h = torch.cat( (h[h.shape[0]//2:],h[:h.shape[0]//2]), 0  )\n",
    "    return h"
   ]
  },
  {
   "cell_type": "code",
   "execution_count": 35,
   "metadata": {},
   "outputs": [],
   "source": [
    "def distance_loss(hypothesis, broken_image):\n",
    "    return torch.dist(hypothesis, broken_image) # 두 텐서 사이의 거리를 구하는 함수"
   ]
  },
  {
   "cell_type": "code",
   "execution_count": 26,
   "metadata": {},
   "outputs": [],
   "source": [
    "# 무작위 값을 가진 텐서를 생성\n",
    "random_tensor = torch.randn(10000, dtype = torch.float)"
   ]
  },
  {
   "cell_type": "code",
   "execution_count": 27,
   "metadata": {},
   "outputs": [],
   "source": [
    "# 매개변수 학습률 설정 (learning rate)\n",
    "lr = 0.8\n"
   ]
  },
  {
   "cell_type": "code",
   "execution_count": 39,
   "metadata": {},
   "outputs": [
    {
     "name": "stdout",
     "output_type": "stream",
     "text": [
      "Loss at 0 = 11.87472152709961\n",
      "Loss at 1000 = 0.1788623183965683\n",
      "Loss at 2000 = 0.13984555006027222\n",
      "Loss at 3000 = 0.12065991759300232\n",
      "Loss at 4000 = 0.10461539775133133\n",
      "Loss at 5000 = 0.08966553956270218\n",
      "Loss at 6000 = 0.07522895187139511\n",
      "Loss at 7000 = 0.06107300892472267\n",
      "Loss at 8000 = 0.047086045145988464\n",
      "Loss at 9000 = 0.03320808708667755\n",
      "Loss at 10000 = 0.02093958482146263\n",
      "Loss at 11000 = 0.02116374857723713\n",
      "Loss at 12000 = 0.021166838705539703\n",
      "Loss at 13000 = 0.021167682483792305\n",
      "Loss at 14000 = 0.021167704835534096\n",
      "Loss at 15000 = 0.02116856724023819\n",
      "Loss at 16000 = 0.02116750180721283\n",
      "Loss at 17000 = 0.02116698957979679\n",
      "Loss at 18000 = 0.021164700388908386\n",
      "Loss at 19000 = 0.0211641825735569\n"
     ]
    }
   ],
   "source": [
    "# 오차 함수를 random_tensor로 미분하기 위해 requires_grad를 설정\n",
    "for i in range(0, 20000):\n",
    "    random_tensor.requires_grad_(True)\n",
    "    \n",
    "    # 무작위 텐서를 (random_tensor) weird_function() 함수에 통과시켜 가설(hypothesis) 를 구함\n",
    "    hypothesis = weird_function(random_tensor)\n",
    "\n",
    "    # 오차를 계산\n",
    "    loss = distance_loss(hypothesis, broken_image)\n",
    "\n",
    "    # backward를 호출해 loss를 random_tensor로 미분\n",
    "    loss.backward()\n",
    "    \n",
    "    # 파이토치는 신경만 모델 속 변수들이 지나가는 길인 그래프를 생성\n",
    "    with torch.no_grad(): # 직접 경사하강법을 구현하기 때문에 파이토치에 자동 기울기 계산을 비활성\n",
    "        # loss.backward() 로 계산한 loss의 기울기, 즉 loss가 최댓점이 되는 곳의 방향이 들어있음\n",
    "        # 이 방향의 반대쪽으로 random_tensor를 학습률(lr) 만큼 이동\n",
    "        random_tensor = random_tensor - lr * random_tensor.grad\n",
    "        \n",
    "    # 오차 출력\n",
    "    if i % 1000 == 0:\n",
    "        print('Loss at {} = {}'.format(i, loss.item()))\n"
   ]
  },
  {
   "cell_type": "code",
   "execution_count": 40,
   "metadata": {},
   "outputs": [
    {
     "data": {
      "text/plain": [
       "<matplotlib.image.AxesImage at 0x11e5a3da0>"
      ]
     },
     "execution_count": 40,
     "metadata": {},
     "output_type": "execute_result"
    },
    {
     "data": {
      "image/png": "[encoded data removed]",
      "text/plain": [
       "<Figure size 432x288 with 1 Axes>"
      ]
     },
     "metadata": {
      "needs_background": "light"
     },
     "output_type": "display_data"
    }
   ],
   "source": [
    "\n",
    "# 복원된 이미지 시각화\n",
    "plt.imshow(random_tensor.view(100, 100).data)"
   ]
  },
  {
   "cell_type": "code",
   "execution_count": 48,
   "metadata": {},
   "outputs": [
    {
     "data": {
      "image/png": "[encoded data removed]",
      "text/plain": [
       "<Figure size 432x288 with 1 Axes>"
      ]
     },
     "metadata": {
      "needs_background": "light"
     },
     "output_type": "display_data"
    }
   ],
   "source": [
    "# 신경망 모델 구현\n",
    "import torch\n",
    "import numpy\n",
    "from sklearn.datasets import make_blobs\n",
    "import matplotlib.pyplot as plot\n",
    "import torch.nn.functional as F\n",
    "\n",
    "# 학습 평가에 사용할 데이터셋 만듬\n",
    "n_dim = 2\n",
    "\n",
    "# make_blobs 함수를 이용해 데이터를 2차원 벡터 형태로 만듬\n",
    "# make_blobs 함수가 만들어내는 레이블 데이터는 각 데이터 한 점 한점이 몇 번째 클러스터에 속해 있는지 알려주는 인덱스\n",
    "\n",
    "# 신경망 학습에 쓰이는 데이터와 레이블\n",
    "x_train, y_train = make_blobs(n_samples=80, n_features=n_dim, \n",
    "                              centers=[[1,1], [-1,-1], [1,-1], [-1, 1]],\n",
    "                              shuffle=True, cluster_std=0.3)\n",
    "\n",
    "# 학습이 끝난 신경망의 성능을 평가하는데 쓰임\n",
    "x_test, y_test = make_blobs(n_samples=20, n_features=n_dim, \n",
    "                              centers=[[1,1], [-1,-1], [1,-1], [-1, 1]],\n",
    "                              shuffle=True, cluster_std=0.3)\n",
    "\n",
    "\n",
    "def label_map(y_, from_, to_):\n",
    "    y = numpy.copy(y_)\n",
    "    for f in from_:\n",
    "        y[y_==f] = to_\n",
    "    return y\n",
    "\n",
    "y_train = label_map(y_train, [0, 1], 0)\n",
    "y_train = label_map(y_train, [2, 3], 1)\n",
    "y_test = label_map(y_test, [0, 1], 0)\n",
    "y_test = label_map(y_test, [2, 3], 1)\n",
    "\n",
    "# 데이터가 제대로 만들어지고 레이블링 되어있는지 확인하기 위해 맷플롯립으로 시각화\n",
    "def vis_data(x, y = None, c = 'r'):\n",
    "    if y is None:\n",
    "        y = [None] * len(x)\n",
    "    for x_, y_ in zip(x,y):\n",
    "        if y_ is None:\n",
    "            plt.plot(x_[0], x_[1], '*', markerfacecolor='none', markeredgecolor=c)\n",
    "        else:\n",
    "            plt.plot(x_[0], x_[1], c+'o' if y_ == 0 else c+'+')\n",
    "\n",
    "plt.figure()\n",
    "vis_data(x_train, y_train, c='r')\n",
    "plt.show()"
   ]
  },
  {
   "cell_type": "code",
   "execution_count": 49,
   "metadata": {},
   "outputs": [],
   "source": [
    "# 방금 생성한 넘파이 벡터 형식 데이터를 파이토치 텐서로 바꿔줌\n",
    "x_train = torch.FloatTensor(x_train)\n",
    "x_test =  torch.FloatTensor(x_test)\n",
    "y_train = torch.FloatTensor(y_train)\n",
    "y_test =  torch.FloatTensor(y_test)"
   ]
  },
  {
   "cell_type": "code",
   "execution_count": 55,
   "metadata": {},
   "outputs": [],
   "source": [
    "# 신경망 모델 구현\n",
    "# 신경망 모듈 상속하는 파이썬 클래스 \n",
    "class NeuralNet(torch.nn.Module):\n",
    "    def __init__(self, input_size, hidden_size):\n",
    "        super(NeuralNet, self).__init__()\n",
    "        self.input_size = input_size\n",
    "        self.hidden_size = hidden_size\n",
    "        \n",
    "        # torch.nn.Linear 함수는 행렬곱과 편향을 포함하는 연산을 지원하는 객체 반환\n",
    "        # relu 와 sigmoid는 각 단계에서 수행할 활성화 함수\n",
    "        self.linear_1 = torch.nn.Linear(self.input_size, self.hidden_size)\n",
    "        self.relu = torch.nn.ReLU()\n",
    "        self.linear_2 = torch.nn.Linear(self.hidden_size, 1)\n",
    "        self.sigmoid = torch.nn.Sigmoid()\n",
    "        \n",
    "    def forward(self, input_tensor):\n",
    "        \"\"\"\n",
    "        linear_1 은 입력데이터에 input_size, hidden_size 크기의 가중치를 행렬곱하고 편향을 더하여 \n",
    "        [1, hidden_size] 꼴의 텐서를 반환\n",
    "        \n",
    "        이 텐서에 torch.nn.ReLU() 활성화 함수를 적용\n",
    "        ReLU는 입력값이 0 보다 작으면 0, 0보다 크면 입력값을 그대로 출력\n",
    "        \n",
    "        ReLU 함수를 통과한 텐서는 linear_2로 정의된 행렬곱을 거쳐 [1,1] 로 변환\n",
    "        \n",
    "        마지막으로 sigmoid() 활성화 함수에 입력\n",
    "        \"\"\"\n",
    "\n",
    "        linear1 = self.linear_1(input_tensor) \n",
    "        relu = self.relu(linear1)\n",
    "        linear2 = self.linear_2(relu)\n",
    "        output = self.sigmoid(linear2)\n",
    "        return output\n",
    "    "
   ]
  },
  {
   "cell_type": "code",
   "execution_count": 60,
   "metadata": {},
   "outputs": [
    {
     "name": "stdout",
     "output_type": "stream",
     "text": [
      "Before Training, test loss is 0.7113457918167114\n"
     ]
    }
   ],
   "source": [
    "# 신경망 객체 생성하고 학습에 필요한 여러 변수와 알고리즘 정의\n",
    "model = NeuralNet(2, 5) # input 2, hidden 5로 설정한 신경망\n",
    "learning_rate = 0.03 # 학습률 설정\n",
    "# 이진 교차 엔트로피 (binary cross entropy) \n",
    "criterion = torch.nn.BCELoss() # 오차함수\n",
    "\n",
    "# 전체 학습 데이터를 총 몇번 모델에 입력할지 결정\n",
    "epochs = 2000\n",
    "\n",
    "# 학습에 최적화 알고리즘으로 확률적 경사하강법 (stochastic gradient descent: SGD) 선택\n",
    "# 새 가중치 = 가중치 - 학습률 * 가중치에 대한 기울기\n",
    "# optimizer 인스턴스 생성\n",
    "optimizer = torch.optim.SGD(model.parameters(), lr = learning_rate)\n",
    "\n",
    "# optimizer는 step 함수를 부를 때마다 가중치를 학습률 만큼 갱싱\n",
    "# model.parameter 함수로 추출한 모델 내부의 가중치와 학습률 입력\n",
    "\n",
    "# 학습하지 않은 모델의 성능 시험\n",
    "model.eval()\n",
    "test_loss_before = criterion(model(x_test).squeeze(), y_test)\n",
    "print('Before Training, test loss is {}'.format(test_loss_before.item()))\n",
    "\n",
    "# item() 함수는 텐서 속의 숫자를 스칼라 값으로 반환\n",
    "# 100번 찍어 lossd율 만큼 틀린다"
   ]
  },
  {
   "cell_type": "code",
   "execution_count": 62,
   "metadata": {},
   "outputs": [
    {
     "name": "stdout",
     "output_type": "stream",
     "text": [
      "Train loss at 0 is 0.052985064685344696\n",
      "Train loss at 100 is 0.0500851571559906\n",
      "Train loss at 200 is 0.04747580736875534\n",
      "Train loss at 300 is 0.04510398954153061\n",
      "Train loss at 400 is 0.042938027530908585\n",
      "Train loss at 500 is 0.04094969853758812\n",
      "Train loss at 600 is 0.03912031278014183\n",
      "Train loss at 700 is 0.03743068128824234\n",
      "Train loss at 800 is 0.035865962505340576\n",
      "Train loss at 900 is 0.03441191092133522\n",
      "Train loss at 1000 is 0.033058229833841324\n",
      "Train loss at 1100 is 0.031797152012586594\n",
      "Train loss at 1200 is 0.03061923384666443\n",
      "Train loss at 1300 is 0.029515638947486877\n",
      "Train loss at 1400 is 0.02847994863986969\n",
      "Train loss at 1500 is 0.02750679850578308\n",
      "Train loss at 1600 is 0.02659076452255249\n",
      "Train loss at 1700 is 0.025727171450853348\n",
      "Train loss at 1800 is 0.024911897256970406\n",
      "Train loss at 1900 is 0.024141203612089157\n"
     ]
    }
   ],
   "source": [
    "# 신경망을 학습하여 성능 개선 (기본적인 루틴)\n",
    "for epoch in range(epochs):\n",
    "    model.train()\n",
    "    optimizer.zero_grad()\n",
    "    \n",
    "    train_output = model(x_train)\n",
    "    \n",
    "    # forward 함수가 결괏괎을 내는 함수이긴 하지만 torch.nn.module이 forward 함수를 호출해줌\n",
    "    \n",
    "    # 결괏값의 차원을 레이블 차원과 같게 만들고 오차를 계산\n",
    "    train_loss = criterion(train_output.squeeze(), y_train)\n",
    "    \n",
    "    if epoch % 100 == 0:\n",
    "        print('Train loss at {} is {}'.format(epoch, train_loss.item()))\n",
    "    \n",
    "    # 오차 함수를 가중치로 미분하여 오차가 최소가 되는 방향을 구함\n",
    "    # 이 두줄이 신경망 학습의 핵심인 역전파를 행하는 코드\n",
    "    train_loss.backward()\n",
    "    optimizer.step()\n",
    "    "
   ]
  },
  {
   "cell_type": "code",
   "execution_count": 65,
   "metadata": {},
   "outputs": [
    {
     "name": "stdout",
     "output_type": "stream",
     "text": [
      "After Training, test loss is 0.03633362799882889\n"
     ]
    }
   ],
   "source": [
    "# 모델을 평가 모드로 변경\n",
    "model.eval()\n",
    "test_loss = criterion(torch.squeeze(model(x_test)), y_test)\n",
    "print('After Training, test loss is {}'.format(test_loss.item()))\n",
    "\n",
    "# 오차가 줄어든 것을 확인"
   ]
  },
  {
   "cell_type": "code",
   "execution_count": 66,
   "metadata": {},
   "outputs": [
    {
     "name": "stdout",
     "output_type": "stream",
     "text": [
      "state_dict format of the model : OrderedDict([('linear_1.weight', tensor([[ 2.2291, -1.2938],\n",
      "        [ 0.6034, -0.3526],\n",
      "        [-1.5987,  2.4220],\n",
      "        [ 1.4484,  1.5253],\n",
      "        [ 1.1956, -0.8092]])), ('linear_1.bias', tensor([-0.3998, -0.1071, -0.4069,  0.0704, -0.3233])), ('linear_2.weight', tensor([[ 2.5129,  0.6177,  2.8080, -1.9651,  1.1037]])), ('linear_2.bias', tensor([-3.0945]))])\n"
     ]
    }
   ],
   "source": [
    "# 학습된 모델을 state_dict() 함수 형태로 바꾸어 준 후 pt 파일로 저장\n",
    "# state_dict 함수는 모델 내 가중치들이 딕셔너리 형태로 표현된 데이터\n",
    "torch.save(model.state_dict(), './model.pt')\n",
    "print('state_dict format of the model : {}'.format(model.state_dict()))"
   ]
  },
  {
   "cell_type": "code",
   "execution_count": 67,
   "metadata": {},
   "outputs": [
    {
     "data": {
      "text/plain": [
       "<All keys matched successfully>"
      ]
     },
     "execution_count": 67,
     "metadata": {},
     "output_type": "execute_result"
    }
   ],
   "source": [
    "# 언제든 이 파일을 읽어서 새로운 신경망 객체에 이미 학습된 모델의 가중치를 적용할 수 있음\n",
    "new_model = NeuralNet(2, 5)\n",
    "new_model.load_state_dict(torch.load('./model.pt'))"
   ]
  },
  {
   "cell_type": "code",
   "execution_count": 68,
   "metadata": {},
   "outputs": [
    {
     "name": "stdout",
     "output_type": "stream",
     "text": [
      "벡터 [-1, 1] 이 레이블 1을 가질 확률 0.9988462924957275\n"
     ]
    }
   ],
   "source": [
    "new_model.eval()\n",
    "print('벡터 [-1, 1] 이 레이블 1을 가질 확률 {}'.format(new_model(torch.FloatTensor([-1, 1])).item()))"
   ]
  },
  {
   "cell_type": "code",
   "execution_count": null,
   "metadata": {},
   "outputs": [],
   "source": []
  }
 ],
 "metadata": {
  "kernelspec": {
   "display_name": "Python 3",
   "language": "python",
   "name": "python3"
  },
  "language_info": {
   "codemirror_mode": {
    "name": "ipython",
    "version": 3
   },
   "file_extension": ".py",
   "mimetype": "text/x-python",
   "name": "python",
   "nbconvert_exporter": "python",
   "pygments_lexer": "ipython3",
   "version": "3.7.3"
  }
 },
 "nbformat": 4,
 "nbformat_minor": 2
}
