{
 "cells": [
  {
   "cell_type": "code",
   "execution_count": 3,
   "metadata": {},
   "outputs": [],
   "source": [
    "a = 10"
   ]
  },
  {
   "cell_type": "markdown",
   "metadata": {},
   "source": [
    "### 변수의 값 확인"
   ]
  },
  {
   "cell_type": "markdown",
   "metadata": {},
   "source": [
    "### 변수의 명명 규칙\n",
    " - 영문 대소문 숫자 그리고 _(언더스코어)\n",
    " - 숫자로 시작할 수 없음\n",
    " - 예약어(keyword) 사용할 수 없음"
   ]
  },
  {
   "cell_type": "markdown",
   "metadata": {},
   "source": [
    "### 문자열의 선언"
   ]
  },
  {
   "cell_type": "code",
   "execution_count": 7,
   "metadata": {},
   "outputs": [
    {
     "name": "stdout",
     "output_type": "stream",
     "text": [
      "H\n"
     ]
    }
   ],
   "source": [
    "a = 'HELLO WORLD'\n",
    "print(a[-11])\n",
    "#print(a[-14]) # 안됨"
   ]
  },
  {
   "cell_type": "markdown",
   "metadata": {},
   "source": [
    "### 파이썬 string은 immutable.\n",
    "a[0] = 'j'\n",
    "불가능"
   ]
  },
  {
   "cell_type": "markdown",
   "metadata": {},
   "source": [
    "### 슬라이싱"
   ]
  },
  {
   "cell_type": "code",
   "execution_count": 14,
   "metadata": {},
   "outputs": [
    {
     "name": "stdout",
     "output_type": "stream",
     "text": [
      "HEL\n",
      "ELLO WOR\n",
      "EL O\n",
      "HELLO WORLD\n",
      "HLOWRD\n"
     ]
    }
   ],
   "source": [
    "a = 'HELLO WORLD'\n",
    "print(a[0:3])\n",
    "print(a[1:9])\n",
    "print(a[1:9:2])\n",
    "print(a[0:11:1]) # 마지막 값은 뛰어넘는 값\n",
    "print(a[0:11:2]) # 마지막 값은 뛰어넘는 값 (건너뛰는 step 값)"
   ]
  },
  {
   "cell_type": "code",
   "execution_count": 15,
   "metadata": {},
   "outputs": [
    {
     "name": "stdout",
     "output_type": "stream",
     "text": [
      "b'\\xed\\x95\\x9c\\xea\\xb8\\x80'\n",
      "한글\n"
     ]
    }
   ],
   "source": [
    "a = '한글'\n",
    "a # 한글 (str type)\n",
    "b = a.encode('utf-8')\n",
    "print(b) # 바이트 타입은 출력에 b 가 붙는다\n",
    "c = b.decode('utf-8')\n",
    "print(c)"
   ]
  },
  {
   "cell_type": "code",
   "execution_count": 7,
   "metadata": {},
   "outputs": [
    {
     "name": "stdout",
     "output_type": "stream",
     "text": [
      "{4, 5}\n",
      "{4, 5}\n",
      "{1, 2, 3, 4, 5, 6, 7}\n",
      "{1, 2, 3, 4, 5, 6, 7}\n"
     ]
    }
   ],
   "source": [
    "a = {1,2,3,4,5}\n",
    "b = {4,5,6,7}\n",
    "\n",
    "print(a.intersection(b))\n",
    "print(a & b)\n",
    "print(a.union(b))\n",
    "print(a | b)"
   ]
  },
  {
   "cell_type": "code",
   "execution_count": 9,
   "metadata": {},
   "outputs": [
    {
     "name": "stdout",
     "output_type": "stream",
     "text": [
      "670\n"
     ]
    }
   ],
   "source": [
    "print(int( (664// 10* 10) + 10))\n"
   ]
  },
  {
   "cell_type": "markdown",
   "metadata": {},
   "source": [
    "### and , or, not 사용하기"
   ]
  },
  {
   "cell_type": "code",
   "execution_count": 13,
   "metadata": {},
   "outputs": [
    {
     "name": "stdout",
     "output_type": "stream",
     "text": [
      "조건이 틀립니다\n",
      "조건이 맞습니다\n",
      "조건이 맞습니다\n"
     ]
    }
   ],
   "source": [
    "a = 10\n",
    "b = 40\n",
    "\n",
    "x = 20\n",
    "y = 7\n",
    "\n",
    "if a > b and x > y:\n",
    "    print('조건이 맞습니다')\n",
    "else:\n",
    "    print('조건이 틀립니다')\n",
    "    \n",
    "if a > b or x > y:\n",
    "    print('조건이 맞습니다')\n",
    "else:\n",
    "    print('조건이 틀립니다.')\n",
    "\n",
    "if not (a > b) :\n",
    "    print('조건이 맞습니다')\n",
    "else:\n",
    "    print('조건이 틀립니다.')\n"
   ]
  },
  {
   "cell_type": "markdown",
   "metadata": {},
   "source": [
    "### not > and >  or 우선순위"
   ]
  },
  {
   "cell_type": "code",
   "execution_count": 14,
   "metadata": {},
   "outputs": [
    {
     "name": "stdout",
     "output_type": "stream",
     "text": [
      "hahaha\n"
     ]
    }
   ],
   "source": [
    "a = 10\n",
    "b = 40\n",
    "\n",
    "x = 20\n",
    "y = 7\n",
    "\n",
    "if a > 10 and b > 40 or not x != 20:\n",
    "    print('hahaha')"
   ]
  },
  {
   "cell_type": "code",
   "execution_count": 15,
   "metadata": {},
   "outputs": [
    {
     "name": "stdout",
     "output_type": "stream",
     "text": [
      "짧다\n"
     ]
    }
   ],
   "source": [
    "length = 20\n",
    "value = '길다' if length > 50 else '짧다'\n",
    "print(value)"
   ]
  },
  {
   "cell_type": "code",
   "execution_count": 18,
   "metadata": {},
   "outputs": [
    {
     "name": "stdout",
     "output_type": "stream",
     "text": [
      "[6, 7]\n"
     ]
    }
   ],
   "source": [
    "x = [1,2,3,4,5,6,7]\n",
    "\n",
    "y = [i for i in x if i > 5]\n",
    "print(y)\n"
   ]
  },
  {
   "cell_type": "code",
   "execution_count": 62,
   "metadata": {},
   "outputs": [
    {
     "ename": "SyntaxError",
     "evalue": "invalid syntax (<ipython-input-62-166d9d73e15e>, line 15)",
     "output_type": "error",
     "traceback": [
      "\u001b[0;36m  File \u001b[0;32m\"<ipython-input-62-166d9d73e15e>\"\u001b[0;36m, line \u001b[0;32m15\u001b[0m\n\u001b[0;31m    print(s)\u001b[0m\n\u001b[0m        ^\u001b[0m\n\u001b[0;31mSyntaxError\u001b[0m\u001b[0;31m:\u001b[0m invalid syntax\n"
     ]
    }
   ],
   "source": [
    "from itertools import groupby\n",
    "\n",
    "doc_info_list=[670, 640, 760, 640, 650, 730, 640]\n",
    "\n",
    "sorted_doc_info_list = sorted(list(doc_info_list))\n",
    "groupby_doc_info_list = groupby(sorted_doc_info_list)\n",
    "\n",
    "# for key, doc_list in groupby_doc_info_list:\n",
    "#     print(key, len(list(doc_list)))\n",
    "    \n",
    "s = sum((filter(lambda cnt: cnt >= 3, [len(list(doc_list))\n",
    "           for key, doc_list in groupby_doc_info_list \n",
    "])))\n",
    "\n",
    "print(s)\n",
    "\n",
    "# a for a,b in groupby(x) if len(list(b)) > 1\n"
   ]
  },
  {
   "cell_type": "code",
   "execution_count": 64,
   "metadata": {},
   "outputs": [
    {
     "data": {
      "text/plain": [
       "2.5"
      ]
     },
     "execution_count": 64,
     "metadata": {},
     "output_type": "execute_result"
    }
   ],
   "source": [
    "float(10) /4"
   ]
  },
  {
   "cell_type": "code",
   "execution_count": 65,
   "metadata": {},
   "outputs": [
    {
     "name": "stdout",
     "output_type": "stream",
     "text": [
      "0 10\n",
      "1 2\n",
      "2 30\n",
      "3 4\n",
      "4 5\n"
     ]
    }
   ],
   "source": [
    "a = [10, 2, 30, 4, 5]\n",
    "for i, num in enumerate(a):\n",
    "    print(i, num)"
   ]
  },
  {
   "cell_type": "code",
   "execution_count": null,
   "metadata": {},
   "outputs": [],
   "source": []
  },
  {
   "cell_type": "code",
   "execution_count": 77,
   "metadata": {},
   "outputs": [
    {
     "name": "stdout",
     "output_type": "stream",
     "text": [
      "[1, 2, 3, 45, 6]\n"
     ]
    }
   ],
   "source": [
    "a = [1,2,3]\n",
    "\n",
    "b = [45,6]\n",
    "\n",
    "a += b\n",
    "\n",
    "print(a)"
   ]
  },
  {
   "cell_type": "markdown",
   "metadata": {},
   "source": [
    "### 가변 파라미터"
   ]
  },
  {
   "cell_type": "code",
   "execution_count": 71,
   "metadata": {},
   "outputs": [],
   "source": [
    "def add_all(*arguments):\n",
    "    total = 0\n",
    "    for i in arguments:\n",
    "        total += i\n",
    "    return total"
   ]
  },
  {
   "cell_type": "code",
   "execution_count": 75,
   "metadata": {},
   "outputs": [
    {
     "name": "stdout",
     "output_type": "stream",
     "text": [
      "25\n"
     ]
    }
   ],
   "source": [
    "print(add_all(1,2,3,4,5,5,5))"
   ]
  },
  {
   "cell_type": "markdown",
   "metadata": {},
   "source": [
    "### 키워드 파라미터"
   ]
  },
  {
   "cell_type": "code",
   "execution_count": 78,
   "metadata": {},
   "outputs": [],
   "source": [
    "def print_all(**kwargs):\n",
    "    print(type(kwargs))\n",
    "    print(kwargs)"
   ]
  },
  {
   "cell_type": "code",
   "execution_count": 79,
   "metadata": {},
   "outputs": [
    {
     "name": "stdout",
     "output_type": "stream",
     "text": [
      "<class 'dict'>\n",
      "{'a': 1, 'b': 3, 's': 5}\n"
     ]
    }
   ],
   "source": [
    "print_all(a=1, b=3, s=5)"
   ]
  },
  {
   "cell_type": "code",
   "execution_count": null,
   "metadata": {},
   "outputs": [],
   "source": []
  },
  {
   "cell_type": "code",
   "execution_count": null,
   "metadata": {},
   "outputs": [],
   "source": []
  },
  {
   "cell_type": "code",
   "execution_count": null,
   "metadata": {},
   "outputs": [],
   "source": []
  },
  {
   "cell_type": "code",
   "execution_count": null,
   "metadata": {},
   "outputs": [],
   "source": []
  },
  {
   "cell_type": "code",
   "execution_count": null,
   "metadata": {},
   "outputs": [],
   "source": []
  },
  {
   "cell_type": "code",
   "execution_count": null,
   "metadata": {},
   "outputs": [],
   "source": []
  }
 ],
 "metadata": {
  "kernelspec": {
   "display_name": "Python 3",
   "language": "python",
   "name": "python3"
  },
  "language_info": {
   "codemirror_mode": {
    "name": "ipython",
    "version": 3
   },
   "file_extension": ".py",
   "mimetype": "text/x-python",
   "name": "python",
   "nbconvert_exporter": "python",
   "pygments_lexer": "ipython3",
   "version": "3.7.3"
  }
 },
 "nbformat": 4,
 "nbformat_minor": 2
}
