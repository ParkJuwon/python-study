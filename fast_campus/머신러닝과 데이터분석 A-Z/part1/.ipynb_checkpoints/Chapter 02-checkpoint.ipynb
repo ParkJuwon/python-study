{
 "cells": [
  {
   "cell_type": "code",
   "execution_count": 3,
   "metadata": {},
   "outputs": [],
   "source": [
    "a = 10"
   ]
  },
  {
   "cell_type": "markdown",
   "metadata": {},
   "source": [
    "### 변수의 값 확인"
   ]
  },
  {
   "cell_type": "markdown",
   "metadata": {},
   "source": [
    "### 변수의 명명 규칙\n",
    " - 영문 대소문 숫자 그리고 _(언더스코어)\n",
    " - 숫자로 시작할 수 없음\n",
    " - 예약어(keyword) 사용할 수 없음"
   ]
  },
  {
   "cell_type": "markdown",
   "metadata": {},
   "source": [
    "### 문자열의 선언"
   ]
  },
  {
   "cell_type": "code",
   "execution_count": 7,
   "metadata": {},
   "outputs": [
    {
     "name": "stdout",
     "output_type": "stream",
     "text": [
      "H\n"
     ]
    }
   ],
   "source": [
    "a = 'HELLO WORLD'\n",
    "print(a[-11])\n",
    "#print(a[-14]) # 안됨"
   ]
  },
  {
   "cell_type": "markdown",
   "metadata": {},
   "source": [
    "### 파이썬 string은 immutable.\n",
    "a[0] = 'j'\n",
    "불가능"
   ]
  },
  {
   "cell_type": "markdown",
   "metadata": {},
   "source": [
    "### 슬라이싱"
   ]
  },
  {
   "cell_type": "code",
   "execution_count": 14,
   "metadata": {},
   "outputs": [
    {
     "name": "stdout",
     "output_type": "stream",
     "text": [
      "HEL\n",
      "ELLO WOR\n",
      "EL O\n",
      "HELLO WORLD\n",
      "HLOWRD\n"
     ]
    }
   ],
   "source": [
    "a = 'HELLO WORLD'\n",
    "print(a[0:3])\n",
    "print(a[1:9])\n",
    "print(a[1:9:2])\n",
    "print(a[0:11:1]) # 마지막 값은 뛰어넘는 값\n",
    "print(a[0:11:2]) # 마지막 값은 뛰어넘는 값 (건너뛰는 step 값)"
   ]
  },
  {
   "cell_type": "code",
   "execution_count": 15,
   "metadata": {},
   "outputs": [
    {
     "name": "stdout",
     "output_type": "stream",
     "text": [
      "b'\\xed\\x95\\x9c\\xea\\xb8\\x80'\n",
      "한글\n"
     ]
    }
   ],
   "source": [
    "a = '한글'\n",
    "a # 한글 (str type)\n",
    "b = a.encode('utf-8')\n",
    "print(b) # 바이트 타입은 출력에 b 가 붙는다\n",
    "c = b.decode('utf-8')\n",
    "print(c)"
   ]
  },
  {
   "cell_type": "code",
   "execution_count": null,
   "metadata": {},
   "outputs": [],
   "source": []
  },
  {
   "cell_type": "code",
   "execution_count": null,
   "metadata": {},
   "outputs": [],
   "source": []
  }
 ],
 "metadata": {
  "kernelspec": {
   "display_name": "Python 3",
   "language": "python",
   "name": "python3"
  },
  "language_info": {
   "codemirror_mode": {
    "name": "ipython",
    "version": 3
   },
   "file_extension": ".py",
   "mimetype": "text/x-python",
   "name": "python",
   "nbconvert_exporter": "python",
   "pygments_lexer": "ipython3",
   "version": "3.7.3"
  }
 },
 "nbformat": 4,
 "nbformat_minor": 2
}
