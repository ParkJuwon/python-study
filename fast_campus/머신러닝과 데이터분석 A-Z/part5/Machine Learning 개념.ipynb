{
 "cells": [
  {
   "cell_type": "markdown",
   "metadata": {},
   "source": [
    "- 무엇(X)으로 무엇(Y)을 예측하고 싶다\n",
    "    - 데이터(행렬)\n",
    "    \n",
    "    \n",
    "$Y=f(X)$\n",
    "- 출력 변수간의 관계를 만듬\n",
    "- 특칭을 찾아냄\n",
    "- x : 입력변수 (독립변수,feature)\n",
    "- y : 출력변수(종속변수, 반응변수)"
   ]
  },
  {
   "cell_type": "markdown",
   "metadata": {},
   "source": [
    "## f란 무엇인가 (회귀분석인 경우)\n",
    "- f를 구하기 위해서 입력 변수와 출력변수가 필요함\n",
    "- p개의 입력변수 x1,x2... 출력 변수 y가 있을떄 입력 변수와 출력 변수의 관계를 나타내는 식\n",
    "\n",
    "\n",
    "$𝑌=𝑓(𝑋) + e$"
   ]
  },
  {
   "cell_type": "code",
   "execution_count": null,
   "metadata": {},
   "outputs": [],
   "source": []
  }
 ],
 "metadata": {
  "kernelspec": {
   "display_name": "Python 3",
   "language": "python",
   "name": "python3"
  },
  "language_info": {
   "codemirror_mode": {
    "name": "ipython",
    "version": 3
   },
   "file_extension": ".py",
   "mimetype": "text/x-python",
   "name": "python",
   "nbconvert_exporter": "python",
   "pygments_lexer": "ipython3",
   "version": "3.7.3"
  }
 },
 "nbformat": 4,
 "nbformat_minor": 2
}
