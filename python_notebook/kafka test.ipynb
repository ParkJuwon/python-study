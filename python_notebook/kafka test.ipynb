{
 "cells": [
  {
   "cell_type": "code",
   "execution_count": 2,
   "metadata": {},
   "outputs": [],
   "source": [
    "from confluent_kafka import Consumer, KafkaError"
   ]
  },
  {
   "cell_type": "code",
   "execution_count": 3,
   "metadata": {},
   "outputs": [],
   "source": [
    "# consumer = KafkaConsumer('influencer.interlock-post-channel',\n",
    "#      bootstrap_servers=['dev-inf-kafka001-ncl.nfra.io:9092,dev-inf-kafka002-ncl.nfra.io:9092,dev-inf-kafka003-ncl.nfra.io:9092'],\n",
    "#      auto_offset_reset='earliest',\n",
    "#      enable_auto_commit= True ,\n",
    "#      group_id='sr',\n",
    "#      value_deserializer=lambda x: loads(x.decode('utf-8')),\n",
    "#      security_protocol='SASL_PLAINTEXT',\n",
    "#      sasl_mechanism='PLAIN',\n",
    "#      sasl_plain_username='influencer_dev', sasl_plain_password='inf123!@#')\n",
    "\n",
    "\n",
    "consumer = Consumer({\n",
    "  'bootstrap.servers': 'dev-inf-kafka001-ncl.nfra.io:9092,dev-inf-kafka002-ncl.nfra.io:9092,dev-inf-kafka003-ncl.nfra.io:9092',\n",
    "  'security.protocol':'SASL_PLAINTEXT',\n",
    "  'group.id': 'john_group',\n",
    "  'sasl.mechanism':'SCRAM-SHA-256',\n",
    "  'sasl.username':'influencer_dev',\n",
    "  'sasl.password':'inf123!@#',\n",
    "  'default.topic.config': {'auto.offset.reset': 'earliest'},\n",
    "})\n",
    "\n",
    "consumer.subscribe(['influencer.interlock-post-channel'])\n"
   ]
  },
  {
   "cell_type": "code",
   "execution_count": null,
   "metadata": {},
   "outputs": [],
   "source": [
    "for i in range(10):\n",
    "    msg = consumer.poll(timeout=1.0)\n",
    "    \n",
    "    if msg is None:\n",
    "        continue\n",
    "    \n",
    "    # Proper message\n",
    "    print('%% %s [%d] at offset %d with key %s:\\n' %\n",
    "                     (msg.topic(), msg.partition(), msg.offset(),\n",
    "                      str(msg.key())))\n",
    "    print(msg.value())\n",
    "    "
   ]
  },
  {
   "cell_type": "code",
   "execution_count": 7,
   "metadata": {},
   "outputs": [
    {
     "name": "stdout",
     "output_type": "stream",
     "text": [
      "1.0\n",
      "7\n"
     ]
    }
   ],
   "source": [
    "from itertools import groupby\n",
    "ll = [532, 536, 535, 536, 532, 539, 534]\n",
    "BASE_LENGTH_BOUND=10\n",
    "def length_bound(length):\n",
    "\tif length == 0:\n",
    "\t\treturn 0\n",
    "\telif length < BASE_LENGTH_BOUND:\n",
    "\t\treturn 10\n",
    "\telse:\n",
    "\t\treturn int((length // BASE_LENGTH_BOUND * BASE_LENGTH_BOUND) + BASE_LENGTH_BOUND)\n",
    "    \n",
    "    \n",
    "def abuse_score(content_info_list):\n",
    "\tlength_bounds = sorted(content_info_list)\n",
    "\n",
    "\tmin_value = len(length_bounds)\n",
    "\tmax_value = min_value ** 2\n",
    "\n",
    "\tlength_count_group = groupby(length_bounds)\n",
    "\n",
    "\tsum_value = sum(map(lambda cnt: len(list(cnt[1])) ** 2, length_count_group))\n",
    "\treturn (sum_value - min_value) / (max_value - min_value)\n",
    "\n",
    "def length_bound_group_max_count(content_info_list):\n",
    "\tlength_bounds = sorted(content_info_list)\n",
    "\n",
    "\tlength_count_group = groupby(length_bounds)\n",
    "\n",
    "\treturn max([len(list(cnt_list)) for k, cnt_list in length_count_group])\n",
    "\n",
    "\n",
    "s = [length_bound(l) for l in ll]\n",
    "print(abuse_score(s))\n",
    "print(length_bound_group_max_count(s))"
   ]
  },
  {
   "cell_type": "code",
   "execution_count": null,
   "metadata": {},
   "outputs": [],
   "source": []
  }
 ],
 "metadata": {
  "kernelspec": {
   "display_name": "Python 3",
   "language": "python",
   "name": "python3"
  },
  "language_info": {
   "codemirror_mode": {
    "name": "ipython",
    "version": 3
   },
   "file_extension": ".py",
   "mimetype": "text/x-python",
   "name": "python",
   "nbconvert_exporter": "python",
   "pygments_lexer": "ipython3",
   "version": "3.7.3"
  }
 },
 "nbformat": 4,
 "nbformat_minor": 2
}
