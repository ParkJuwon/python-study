{
 "cells": [
  {
   "cell_type": "code",
   "execution_count": 41,
   "metadata": {},
   "outputs": [],
   "source": [
    "import csv\n",
    "import numpy as np\n",
    "from collections import defaultdict, Counter"
   ]
  },
  {
   "cell_type": "code",
   "execution_count": 157,
   "metadata": {},
   "outputs": [
    {
     "name": "stdout",
     "output_type": "stream",
     "text": [
      "[12 15 22 24 34 37]\n",
      "[10 14 16 29 30 45]\n",
      "[13 16 18 29 36 41]\n",
      "[13 15 19 20 24 30]\n",
      "[ 2  9 10 35 40 41]\n",
      "[ 4 14 24 30 34 42]\n",
      "[12 19 30 34 36 37]\n",
      "[ 6 19 26 31 33 43]\n",
      "[ 4  7 18 20 22 28]\n",
      "[ 2 13 22 30 40 41]\n",
      "[19 21 25 29 34 39]\n",
      "[ 6 16 22 30 33 34]\n",
      "[21 29 31 33 34 37]\n",
      "[ 7 12 16 26 27 38]\n",
      "[11 25 30 31 39 44]\n",
      "[ 7 10 16 17 38 44]\n",
      "[ 4 17 18 29 31 44]\n",
      "[16 17 19 22 28 43]\n",
      "[12 14 22 23 29 44]\n",
      "[ 4  7 10 11 21 36]\n",
      "[12 15 18 30 35 44]\n",
      "[ 4 17 18 24 37 42]\n",
      "[ 5 12 17 19 28 41]\n",
      "[13 15 18 23 30 36]\n",
      "[ 6 13 19 33 38 44]\n",
      "[16 25 27 28 40 42]\n",
      "[19 20 21 26 41 43]\n",
      "[ 1 21 24 26 27 29]\n",
      "[16 17 21 29 30 39]\n",
      "[ 1 18 25 30 31 44]\n"
     ]
    }
   ],
   "source": [
    "count_dict = {} \n",
    "count_dict = defaultdict(lambda:0,count_dict)\n",
    "\n",
    "winning_point = 10\n",
    "candidate_point = 3\n",
    "\n",
    "with open('lotto.csv', 'r', encoding='utf-8') as f:\n",
    "    numbers_list = csv.reader(f)\n",
    "    for numbers in numbers_list:\n",
    "        for idx in range(6):\n",
    "            winning_number = numbers[idx]\n",
    "            count_dict[winning_number] += winning_point\n",
    "        \n",
    "        candidate_number = numbers[6]\n",
    "        count_dict[candidate_number] += candidate_point\n",
    "\n",
    "count_list = list(count_dict.items())\n",
    "count_list.sort(key = lambda elem: int(elem[1]) * -1)\n",
    "\n",
    "high_num_idx = int(np.linspace(1, len(count_list), 4)[1])\n",
    "\n",
    "for _ in range(30):\n",
    "    first_numbers = np.random.choice([int(i[0]) for i in count_list[:high_num_idx]], size=2, replace=False)\n",
    "    second_numbers = np.random.choice([int(i[0]) for i in count_list[high_num_idx:]], size=4, replace=False)\n",
    "    total_numbers = np.append(first_numbers, second_numbers) \n",
    "    print(np.sort(total_numbers))\n"
   ]
  },
  {
   "cell_type": "code",
   "execution_count": null,
   "metadata": {},
   "outputs": [],
   "source": []
  }
 ],
 "metadata": {
  "kernelspec": {
   "display_name": "Python 3",
   "language": "python",
   "name": "python3"
  },
  "language_info": {
   "codemirror_mode": {
    "name": "ipython",
    "version": 3
   },
   "file_extension": ".py",
   "mimetype": "text/x-python",
   "name": "python",
   "nbconvert_exporter": "python",
   "pygments_lexer": "ipython3",
   "version": "3.7.3"
  }
 },
 "nbformat": 4,
 "nbformat_minor": 2
}
