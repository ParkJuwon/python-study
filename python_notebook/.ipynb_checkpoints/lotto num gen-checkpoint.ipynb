{
 "cells": [
  {
   "cell_type": "code",
   "execution_count": 1,
   "metadata": {},
   "outputs": [],
   "source": [
    "import csv\n",
    "import numpy as np\n",
    "from collections import defaultdict, Counter"
   ]
  },
  {
   "cell_type": "code",
   "execution_count": 3,
   "metadata": {},
   "outputs": [
    {
     "name": "stdout",
     "output_type": "stream",
     "text": [
      "[ 9 14 22 24 43 44]\n",
      "[ 4 22 25 34 39 44]\n",
      "[12 16 31 32 34 35]\n",
      "[ 2  5  7 12 27 42]\n",
      "[ 4 14 22 25 27 30]\n",
      "[ 7  9 10 27 29 31]\n",
      "[ 2  4  8 21 27 43]\n",
      "[ 6 11 15 17 22 35]\n",
      "[13 18 19 24 28 38]\n",
      "[ 1  3  6  9 33 41]\n",
      "[ 4 16 17 34 35 38]\n",
      "[ 3  8  9 12 13 28]\n",
      "[ 1  8 18 21 38 43]\n",
      "[ 6  9 20 26 27 36]\n",
      "[ 1  4 13 16 26 37]\n",
      "[ 5 12 25 28 38 39]\n",
      "[17 35 37 38 40 45]\n",
      "[ 7  9 14 22 34 42]\n",
      "[ 2  7 12 32 40 44]\n",
      "[ 4 17 20 24 29 42]\n",
      "[14 18 25 36 38 39]\n",
      "[ 4  6 10 26 39 41]\n",
      "[ 1  2  9 12 22 38]\n",
      "[ 5 14 18 32 37 43]\n",
      "[ 7 14 16 17 36 42]\n",
      "[ 9 14 18 28 34 38]\n",
      "[ 4  5 24 27 36 40]\n",
      "[10 15 17 22 24 31]\n",
      "[ 3 11 17 25 41 45]\n",
      "[ 6 13 17 18 29 35]\n",
      "[ 5 16 20 34 41 45]\n",
      "[ 7 10 20 31 36 37]\n",
      "[ 3  8 19 23 40 41]\n",
      "[ 7 13 31 32 40 41]\n",
      "[ 4 12 21 28 34 42]\n",
      "[ 1  6  7 22 27 37]\n",
      "[12 16 19 31 36 37]\n",
      "[ 1  6  8 36 40 42]\n",
      "[ 3 17 28 30 32 39]\n",
      "[ 8 11 26 28 34 44]\n",
      "[ 5  6 14 24 40 44]\n",
      "[ 2  4 10 33 42 45]\n",
      "[ 2  6  9 17 39 41]\n",
      "[ 6 12 20 22 30 35]\n",
      "[ 1 22 24 31 42 43]\n",
      "[ 2  9 19 27 31 32]\n",
      "[ 4 16 17 29 38 39]\n",
      "[13 20 29 31 35 44]\n",
      "[ 6  9 18 39 41 43]\n",
      "[ 9 10 19 23 37 42]\n",
      "[10 18 26 32 33 41]\n",
      "[ 4  8 15 19 20 26]\n",
      "[ 1  9 25 27 28 36]\n",
      "[18 23 25 33 36 39]\n",
      "[10 15 18 22 27 28]\n",
      "[14 15 23 27 31 44]\n",
      "[ 8 18 26 28 39 43]\n",
      "[ 9 11 19 29 32 44]\n",
      "[13 14 30 38 41 45]\n",
      "[ 1 28 31 33 36 45]\n"
     ]
    }
   ],
   "source": [
    "count_dict = {} \n",
    "count_dict = defaultdict(lambda:0,count_dict)\n",
    "\n",
    "winning_point = 10\n",
    "candidate_point = 3\n",
    "\n",
    "with open('lotto.csv', 'r', encoding='utf-8') as f:\n",
    "    numbers_list = csv.reader(f)\n",
    "    for numbers in numbers_list:\n",
    "        for idx in range(6):\n",
    "            winning_number = numbers[idx]\n",
    "            count_dict[winning_number] += winning_point\n",
    "        \n",
    "        candidate_number = numbers[6]\n",
    "        count_dict[candidate_number] += candidate_point\n",
    "\n",
    "count_list = list(count_dict.items())\n",
    "count_list.sort(key = lambda elem: int(elem[1]) * -1)\n",
    "\n",
    "high_num_idx = int(np.linspace(1, len(count_list), 4)[1])\n",
    "\n",
    "for _ in range(60):\n",
    "    first_numbers = np.random.choice([int(i[0]) for i in count_list[:high_num_idx]], size=2, replace=False)\n",
    "    second_numbers = np.random.choice([int(i[0]) for i in count_list[high_num_idx:]], size=4, replace=False)\n",
    "    total_numbers = np.append(first_numbers, second_numbers) \n",
    "    print(np.sort(total_numbers))\n"
   ]
  },
  {
   "cell_type": "code",
   "execution_count": null,
   "metadata": {},
   "outputs": [],
   "source": []
  }
 ],
 "metadata": {
  "kernelspec": {
   "display_name": "Python 3",
   "language": "python",
   "name": "python3"
  },
  "language_info": {
   "codemirror_mode": {
    "name": "ipython",
    "version": 3
   },
   "file_extension": ".py",
   "mimetype": "text/x-python",
   "name": "python",
   "nbconvert_exporter": "python",
   "pygments_lexer": "ipython3",
   "version": "3.7.3"
  }
 },
 "nbformat": 4,
 "nbformat_minor": 2
}
