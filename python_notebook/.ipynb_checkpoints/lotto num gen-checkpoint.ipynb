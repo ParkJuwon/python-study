{
 "cells": [
  {
   "cell_type": "code",
   "execution_count": 14,
   "metadata": {},
   "outputs": [],
   "source": [
    "import csv\n",
    "from collections import defaultdict, Counter"
   ]
  },
  {
   "cell_type": "code",
   "execution_count": 40,
   "metadata": {},
   "outputs": [
    {
     "name": "stdout",
     "output_type": "stream",
     "text": [
      "[('34', 1435), ('43', 1396), ('27', 1352), ('17', 1336), ('40', 1335), ('12', 1326), ('13', 1315), ('33', 1312), ('1', 1308), ('20', 1307), ('10', 1297), ('39', 1287), ('14', 1278), ('11', 1277), ('18', 1272), ('19', 1268), ('5', 1265), ('45', 1259), ('8', 1254), ('31', 1250), ('4', 1248), ('37', 1241), ('26', 1240), ('15', 1238), ('2', 1235), ('24', 1229), ('21', 1220), ('7', 1213), ('25', 1211), ('3', 1209), ('38', 1209), ('36', 1208), ('16', 1202), ('44', 1201), ('6', 1185), ('42', 1180), ('30', 1159), ('35', 1136), ('28', 1122), ('29', 1103), ('41', 1102), ('32', 1073), ('23', 1052), ('22', 1009), ('9', 960)]\n"
     ]
    }
   ],
   "source": [
    "count_dict = {} \n",
    "count_dict = defaultdict(lambda:0,count_dict)\n",
    "\n",
    "winning_point = 10\n",
    "candidate_point = 3\n",
    "\n",
    "with open('lotto.csv', 'r', encoding='utf-8') as f:\n",
    "    numbers_list = csv.reader(f)\n",
    "    for numbers in numbers_list:\n",
    "        for idx in range(6):\n",
    "            winning_number = numbers[idx]\n",
    "            count_dict[winning_number] += winning_point\n",
    "        \n",
    "        candidate_number = numbers[6]\n",
    "        count_dict[candidate_number] += candidate_point\n",
    "\n",
    "count_list = list(count_dict.items())\n",
    "count_list.sort(key = lambda elem: int(elem[1]) * -1)\n",
    "\n",
    "high_num_idx = \n",
    "\n",
    "print(count_list)\n"
   ]
  },
  {
   "cell_type": "code",
   "execution_count": null,
   "metadata": {},
   "outputs": [],
   "source": []
  }
 ],
 "metadata": {
  "kernelspec": {
   "display_name": "Python 3",
   "language": "python",
   "name": "python3"
  },
  "language_info": {
   "codemirror_mode": {
    "name": "ipython",
    "version": 3
   },
   "file_extension": ".py",
   "mimetype": "text/x-python",
   "name": "python",
   "nbconvert_exporter": "python",
   "pygments_lexer": "ipython3",
   "version": "3.7.3"
  }
 },
 "nbformat": 4,
 "nbformat_minor": 2
}
